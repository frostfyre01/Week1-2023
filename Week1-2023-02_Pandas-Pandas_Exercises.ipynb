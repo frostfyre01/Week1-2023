{
  "cells": [
    {
      "cell_type": "markdown",
      "source": "# Pandas Exercises",
      "metadata": {
        "id": "bSU6eKZTdMXZ",
        "colab_type": "text",
        "cell_id": "1864b61bfc684425b385e25caf30cacd",
        "deepnote_cell_type": "markdown"
      }
    },
    {
      "cell_type": "code",
      "source": "import pandas as pd\n\nurl = \"https://raw.githubusercontent.com/BeaverWorksMedlytics2020/Data_Public/master/NotebookExampleData/Week1/diabetes.csv\"\nnames = ['preg', 'plas', 'pres', 'skin', 'test', 'mass', 'pedi', 'age', 'class']",
      "metadata": {
        "id": "c5ewTg7vdQFm",
        "colab": {},
        "colab_type": "code",
        "source_hash": null,
        "execution_start": 1625522830394,
        "execution_millis": 4,
        "deepnote_to_be_reexecuted": false,
        "cell_id": "17d0fc135091463788a2e666ff28663a",
        "deepnote_cell_type": "code"
      },
      "outputs": [],
      "execution_count": null
    },
    {
      "cell_type": "markdown",
      "source": "Read in csv above to a pandas dataframe",
      "metadata": {
        "id": "QOLgFaSKeShR",
        "colab_type": "text",
        "cell_id": "b8fda4a445b548868ad5be874a2d7afb",
        "deepnote_cell_type": "markdown"
      }
    },
    {
      "cell_type": "code",
      "source": "df = pd.read_csv(url, names=names)\ndf.head()",
      "metadata": {
        "id": "Okcb8dnXeX2C",
        "colab": {},
        "colab_type": "code",
        "cell_id": "e5778ac073d7451b8b0266fdb824dde8",
        "deepnote_cell_type": "code"
      },
      "outputs": [],
      "execution_count": null
    },
    {
      "cell_type": "markdown",
      "source": "Print out the age and class of the 100th patient",
      "metadata": {
        "id": "d4DyOsuoewE2",
        "colab_type": "text",
        "cell_id": "4ccaa7aae279462597eb6dcf50343051",
        "deepnote_cell_type": "markdown"
      }
    },
    {
      "cell_type": "code",
      "source": "df.iloc[100][[\"age\", \"class\"]]\nprint(\"Age of 100th patient: \", df.iloc[100][\"age\"])\nprint(\"Class of 100th patient: \", df.iloc[100][\"class\"])",
      "metadata": {
        "id": "xZqBsg39eY8_",
        "colab": {},
        "colab_type": "code",
        "cell_id": "02de774234534984bbe8c2fac9958611",
        "deepnote_cell_type": "code"
      },
      "outputs": [],
      "execution_count": null
    },
    {
      "cell_type": "markdown",
      "source": "Write code to figure out how many people are classified as not having diabetes, class is 0",
      "metadata": {
        "id": "j8L2EM-5iOWc",
        "colab_type": "text",
        "cell_id": "a908991e17f64f28abcc94b06f765696",
        "deepnote_cell_type": "markdown"
      }
    },
    {
      "cell_type": "code",
      "source": "print(\"People without diabetes: \", len(df[df['class']==0]))",
      "metadata": {
        "id": "vohzS51WiWvD",
        "colab": {},
        "colab_type": "code",
        "cell_id": "f8e7fbe1f58142bbb65e9bf7e9dcb671",
        "deepnote_cell_type": "code"
      },
      "outputs": [],
      "execution_count": null
    },
    {
      "cell_type": "markdown",
      "source": "Write code to figure out how many people are classified as having diabetes, class is 1",
      "metadata": {
        "id": "ieGRz4iiiX4E",
        "colab_type": "text",
        "cell_id": "0e067eaa5b3c4e888c0a13cb91dca055",
        "deepnote_cell_type": "markdown"
      }
    },
    {
      "cell_type": "code",
      "source": "print(\"People with diabetes: \", len(df[df['class']==1]))",
      "metadata": {
        "id": "-jq2O-vriXRT",
        "colab": {},
        "colab_type": "code",
        "cell_id": "b2c58dc039a646dfb68ca2ded72a22cb",
        "deepnote_cell_type": "code"
      },
      "outputs": [],
      "execution_count": null
    },
    {
      "cell_type": "markdown",
      "source": "What percent of people have diabetes in the study",
      "metadata": {
        "id": "oeFT7T9OnuSd",
        "colab_type": "text",
        "cell_id": "112bffc6646e45fd95ce85f2999812cb",
        "deepnote_cell_type": "markdown"
      }
    },
    {
      "cell_type": "code",
      "source": "print(\"Percent with diabetes: \", len(df[df['class']==1])/len(df))",
      "metadata": {
        "id": "zGGHptFYnwq0",
        "colab": {},
        "colab_type": "code",
        "cell_id": "ffc98cb0f66447ebad7cff096234e487",
        "deepnote_cell_type": "code"
      },
      "outputs": [],
      "execution_count": null
    },
    {
      "cell_type": "markdown",
      "source": "Print out the `\"pres\"` and `\"class\"` (no other columns) for the first 5 people",
      "metadata": {
        "id": "nbrjnRPafs0p",
        "colab_type": "text",
        "cell_id": "cf032d6f0c6547c391ede8771d94311a",
        "deepnote_cell_type": "markdown"
      }
    },
    {
      "cell_type": "code",
      "source": "df[[\"pres\", \"class\"]].head()",
      "metadata": {
        "id": "GiNCJ19KfHJQ",
        "colab": {},
        "colab_type": "code",
        "cell_id": "47d27cc82cf64a88b84e29a7de458460",
        "deepnote_cell_type": "code"
      },
      "outputs": [],
      "execution_count": null
    },
    {
      "cell_type": "markdown",
      "source": "Run the cell below, it will print out the correlation among the columns",
      "metadata": {
        "id": "O-CcsoqlhxUn",
        "colab_type": "text",
        "cell_id": "1e1e4f5c79264a53a32c232539a8b2a5",
        "deepnote_cell_type": "markdown"
      }
    },
    {
      "cell_type": "code",
      "source": "df.corr()",
      "metadata": {
        "id": "pXpVFt6MffQt",
        "colab": {},
        "colab_type": "code",
        "cell_id": "dd8e18f8aa0642f5b41b4d8f26dd43ad",
        "deepnote_cell_type": "code"
      },
      "outputs": [],
      "execution_count": null
    },
    {
      "cell_type": "markdown",
      "source": "What column has the highest correlation with class? Find the mean() value of that column",
      "metadata": {
        "id": "P_7xRF11h4Uf",
        "colab_type": "text",
        "cell_id": "41735ecf20b5482fad9b3dd7714d31e9",
        "deepnote_cell_type": "markdown"
      }
    },
    {
      "cell_type": "code",
      "source": "high_class\n\nhigh_class = int(np.amax(df.corr()['class'].to_numpy()))\nmean = df[names[high_class]].mean()\n\nnames[high_class], mean\n\nhigh_class = int(np.amax(df.corr()['class'].to_numpy()))\nmean = df[names[high_class]].mean()\n\nnames[high_class], mean",
      "metadata": {
        "id": "clb2Gh8Mn9d4",
        "colab": {},
        "colab_type": "code",
        "source_hash": "67519618",
        "execution_start": 1689099653814,
        "execution_millis": 2310,
        "deepnote_to_be_reexecuted": false,
        "cell_id": "f66aa08538ef469dbb9b6237704650d3",
        "deepnote_cell_type": "code"
      },
      "outputs": [
        {
          "output_type": "error",
          "ename": "NameError",
          "evalue": "name 'high_class' is not defined",
          "traceback": [
            "\u001b[0;31m---------------------------------------------------------------------------\u001b[0m",
            "\u001b[0;31mNameError\u001b[0m                                 Traceback (most recent call last)",
            "Cell \u001b[0;32mIn [1], line 1\u001b[0m\n\u001b[0;32m----> 1\u001b[0m \u001b[43mhigh_class\u001b[49m\n\u001b[1;32m      2\u001b[0m high_class \u001b[38;5;241m=\u001b[39m \u001b[38;5;28mint\u001b[39m(np\u001b[38;5;241m.\u001b[39mamax(df\u001b[38;5;241m.\u001b[39mcorr()[\u001b[38;5;124m'\u001b[39m\u001b[38;5;124mclass\u001b[39m\u001b[38;5;124m'\u001b[39m]\u001b[38;5;241m.\u001b[39mto_numpy()))\n\u001b[1;32m      3\u001b[0m mean \u001b[38;5;241m=\u001b[39m df[names[high_class]]\u001b[38;5;241m.\u001b[39mmean()\n",
            "\u001b[0;31mNameError\u001b[0m: name 'high_class' is not defined"
          ]
        }
      ],
      "execution_count": 1
    },
    {
      "cell_type": "markdown",
      "source": "Create a new dataframe with only people that are above the mean found in the above cell.",
      "metadata": {
        "id": "64yWhAARoWw-",
        "colab_type": "text",
        "cell_id": "595ff2c8229d46b48b5e234f92e57bbd",
        "deepnote_cell_type": "markdown"
      }
    },
    {
      "cell_type": "code",
      "source": "new_df = df[df[names[high_class]] > mean]\nnew_df.head()",
      "metadata": {
        "id": "HRLjs3agkdPY",
        "colab": {},
        "colab_type": "code",
        "cell_id": "86d8c8a4514541139c2825ba456ed903",
        "deepnote_cell_type": "code"
      },
      "outputs": [],
      "execution_count": null
    },
    {
      "cell_type": "markdown",
      "source": "Create a new dataframe that only includes people who are above the average value for each column in the dataset. In other words, find the average value for each column, and then find which users have values above all of these average column values.",
      "metadata": {
        "id": "RxGIQp0JrUnq",
        "colab_type": "text",
        "cell_id": "e9d92cfa77c947e8b9740ce3b55d523b",
        "deepnote_cell_type": "markdown"
      }
    },
    {
      "cell_type": "code",
      "source": "avg = df.mean()\nnew_df = df[(df > avg).all(axis=1)]\nnew_df.head()",
      "metadata": {
        "id": "Ylf4p6NNrfME",
        "colab": {},
        "colab_type": "code",
        "cell_id": "4434ad605c744cd8846d675adf18a4b7",
        "deepnote_cell_type": "code"
      },
      "outputs": [],
      "execution_count": null
    },
    {
      "cell_type": "markdown",
      "source": "*Note: the next 3 problems were not explicitly shown in our tutorial—being able to effectively google and look through documentation is a very important coding tool!* ¯\\\\\\_(ツ)_/¯",
      "metadata": {
        "id": "Cy_6ce7_8qAB",
        "colab_type": "text",
        "cell_id": "962377cf23064976a1f8140f30f1bd3a",
        "deepnote_cell_type": "markdown"
      }
    },
    {
      "cell_type": "markdown",
      "source": "Ignoring the index (resetting the index to 0) and using the dataframe from the cell above, sort the values based on `\"skin\"`, `\"test\"`, and `\"pedi\"` values in ascending order. Please write this in one line.",
      "metadata": {
        "id": "24pCgP2xbCwZ",
        "colab_type": "text",
        "cell_id": "1d314c2f229d48569d6fdb0ebffc949e",
        "deepnote_cell_type": "markdown"
      }
    },
    {
      "cell_type": "code",
      "source": "df.sort_values(by=['skin','test','pedi'], ascending=True)",
      "metadata": {
        "id": "wXZysbVwa7i5",
        "colab": {},
        "colab_type": "code",
        "cell_id": "5d9d3a03346e4ff3b19e4d6b1a45975b",
        "deepnote_cell_type": "code"
      },
      "outputs": [],
      "execution_count": null
    },
    {
      "cell_type": "markdown",
      "source": "Now let's find the 4 largest values for `\"age\"`",
      "metadata": {
        "id": "BIJkXsK4ch-u",
        "colab_type": "text",
        "cell_id": "fbbb3e1480d94c33b688c37b6081768b",
        "deepnote_cell_type": "markdown"
      }
    },
    {
      "cell_type": "code",
      "source": "df.nlargest(4, 'age')",
      "metadata": {
        "id": "kSl28jLLdAF9",
        "colab": {},
        "colab_type": "code",
        "cell_id": "d2d4c19e73884e058f1f518167d6c5de",
        "deepnote_cell_type": "code"
      },
      "outputs": [],
      "execution_count": null
    },
    {
      "cell_type": "markdown",
      "source": "Now find the smallest 4 values for `\"pedi\"` and `\"plas\"` in reverse order (smallest to largest).",
      "metadata": {
        "id": "fJRwe8UfqvNG",
        "colab_type": "text",
        "cell_id": "7f2ad32f4f7c44ca8ba2cf4b5cf149bc",
        "deepnote_cell_type": "markdown"
      }
    },
    {
      "cell_type": "code",
      "source": "df.nsmallest(4, ['pedi', 'plas'])[::-1]",
      "metadata": {
        "id": "icQcbPg1quNI",
        "colab": {},
        "colab_type": "code",
        "cell_id": "08032dc06b7a481b84f31f0cd31d55a5",
        "deepnote_cell_type": "code"
      },
      "outputs": [],
      "execution_count": null
    },
    {
      "cell_type": "markdown",
      "source": "<a style='text-decoration:none;line-height:16px;display:flex;color:#5B5B62;padding:10px;justify-content:end;' href='https://deepnote.com?utm_source=created-in-deepnote-cell&projectId=20b705ef-e160-4a38-9f01-3cd5fbef1605' target=\"_blank\">\n<img alt='Created in deepnote.com' style='display:inline;max-height:16px;margin:0px;margin-right:7.5px;' src='data:image/svg+xml;base64,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' > </img>\nCreated in <span style='font-weight:600;margin-left:4px;'>Deepnote</span></a>",
      "metadata": {
        "created_in_deepnote_cell": true,
        "deepnote_cell_type": "markdown"
      }
    }
  ],
  "nbformat": 4,
  "nbformat_minor": 0,
  "metadata": {
    "colab": {
      "name": "Pandas_Exercises",
      "provenance": [],
      "collapsed_sections": []
    },
    "deepnote": {},
    "kernelspec": {
      "name": "python3",
      "language": "python",
      "display_name": "Python 3"
    },
    "language_info": {
      "name": "python",
      "version": "3.7.3",
      "mimetype": "text/x-python",
      "file_extension": ".py",
      "pygments_lexer": "ipython3",
      "codemirror_mode": {
        "name": "ipython",
        "version": 3
      },
      "nbconvert_exporter": "python"
    },
    "deepnote_notebook_id": "e3a340e791ff48fd99c56e1e8e7c745c",
    "deepnote_execution_queue": []
  }
}