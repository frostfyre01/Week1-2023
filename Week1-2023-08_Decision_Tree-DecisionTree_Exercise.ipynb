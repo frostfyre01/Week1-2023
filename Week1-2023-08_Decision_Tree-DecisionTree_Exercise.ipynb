{
  "cells": [
    {
      "cell_type": "markdown",
      "source": "# Decision Tree Worksheet",
      "metadata": {
        "id": "-UimMCmGe19F",
        "colab_type": "text",
        "cell_id": "bdee56f4fffb492da018c28a471372e1",
        "deepnote_cell_type": "markdown"
      }
    },
    {
      "cell_type": "code",
      "source": "import numpy as np\nimport pandas as po\nfrom sklearn.model_selection import train_test_split\nfrom sklearn.tree import DecisionTreeClassifier\nfrom sklearn.metrics import accuracy_score\nfrom sklearn import tree\nfrom sklearn.ensemble import RandomForestClassifier\nfrom sklearn import metrics\nimport graphviz\nimport matplotlib.pyplot as plt",
      "metadata": {
        "id": "kedW02LgKjVL",
        "colab": {
          "autoexec": {
            "startup": false,
            "wait_interval": 0
          }
        },
        "colab_type": "code",
        "source_hash": "83f21d38",
        "execution_start": 1625523304867,
        "execution_millis": 1491,
        "deepnote_to_be_reexecuted": false,
        "cell_id": "6623cb0ed4804e438bb101d28e060d13",
        "deepnote_cell_type": "code"
      },
      "outputs": [],
      "execution_count": 1
    },
    {
      "cell_type": "markdown",
      "source": "## Loading data\n\nLoad Pima diabetes dataset and split data, with test size 20% and validaton 20%.",
      "metadata": {
        "id": "rz35eT5-SMht",
        "colab_type": "text",
        "cell_id": "76c5b8762129426f82aef75f2f32d665",
        "deepnote_cell_type": "markdown"
      }
    },
    {
      "cell_type": "code",
      "source": "url = \"https://raw.githubusercontent.com/jbrownlee/Datasets/master/pima-indians-diabetes.data.csv\"\nnames = ['preg', 'plas', 'pres', 'skin', 'test', 'mass', 'pedi', 'age', 'class']\n\n## YOUR CODE HERE",
      "metadata": {
        "id": "Ydh9gmDkMGmu",
        "colab": {
          "autoexec": {
            "startup": false,
            "wait_interval": 0
          }
        },
        "colab_type": "code",
        "source_hash": "7da8daf0",
        "execution_start": 1625523316115,
        "execution_millis": 3,
        "deepnote_to_be_reexecuted": false,
        "cell_id": "b632c22839104847be453ac5df1d6052",
        "deepnote_cell_type": "code"
      },
      "outputs": [],
      "execution_count": 2
    },
    {
      "cell_type": "markdown",
      "source": "## Creating Model\n\nMake a model using sklearn's DecisionTreeClassifier, with a high max-depth and low minimum sample leafs.",
      "metadata": {
        "id": "KAFhsJIsSpMR",
        "colab_type": "text",
        "cell_id": "449aaaf6753348518ff6c060a9fd290d",
        "deepnote_cell_type": "markdown"
      }
    },
    {
      "cell_type": "code",
      "source": "## YOUR CODE HERE",
      "metadata": {
        "id": "fHbA28aFS2DM",
        "colab": {
          "autoexec": {
            "startup": false,
            "wait_interval": 0
          }
        },
        "colab_type": "code",
        "cell_id": "e2013b37a6d5433fbb463bee032a5b06",
        "deepnote_cell_type": "code"
      },
      "outputs": [],
      "execution_count": 0
    },
    {
      "cell_type": "markdown",
      "source": "Print accuracy of training and validation data.",
      "metadata": {
        "id": "4_8DZinWTJRa",
        "colab_type": "text",
        "cell_id": "59333688cd9f47a58d9ce81aa88a1e7b",
        "deepnote_cell_type": "markdown"
      }
    },
    {
      "cell_type": "code",
      "source": "## YOUR CODE HERE",
      "metadata": {
        "id": "EgByCP_EhyB2",
        "colab": {
          "autoexec": {
            "startup": false,
            "wait_interval": 0
          }
        },
        "colab_type": "code",
        "cell_id": "34032e08cd6f49a19797342d44f5b191",
        "deepnote_cell_type": "code"
      },
      "outputs": [],
      "execution_count": 0
    },
    {
      "cell_type": "markdown",
      "source": "Make a model with a low max-depth and higher minimum sample leafs.",
      "metadata": {
        "id": "6HNa6fxbT6ak",
        "colab_type": "text",
        "cell_id": "4ab883e8593a43d6a9d8e62155d8cc37",
        "deepnote_cell_type": "markdown"
      }
    },
    {
      "cell_type": "code",
      "source": "## YOUR CODE HERE",
      "metadata": {
        "id": "6Pbu-t_tiqnB",
        "colab": {
          "height": 17,
          "autoexec": {
            "startup": false,
            "wait_interval": 0
          },
          "base_uri": "https://localhost:8080/"
        },
        "outputId": "ef95b427-e6b4-41a7-f992-9826342b662c",
        "colab_type": "code",
        "executionInfo": {
          "user": {
            "userId": "102241934905781120798",
            "photoUrl": "https://lh3.googleusercontent.com/a/default-user=s128",
            "displayName": "john passarelli"
          },
          "status": "ok",
          "elapsed": 287,
          "user_tz": 240,
          "timestamp": 1530627778885
        },
        "cell_id": "c63a7bd7cdc44e5aadd6d9d5bad645cd",
        "deepnote_cell_type": "code"
      },
      "outputs": [],
      "execution_count": 1
    },
    {
      "cell_type": "markdown",
      "source": "Print accuracy of training and validation data.",
      "metadata": {
        "cell_id": "0ef379723fb340fda5c6fae323da5596",
        "deepnote_cell_type": "markdown"
      }
    },
    {
      "cell_type": "code",
      "source": "## YOUR CODE HERE",
      "metadata": {
        "cell_id": "397f9f96359b421e8ba28986fd1b7ab0",
        "deepnote_cell_type": "code"
      },
      "outputs": [],
      "execution_count": null
    },
    {
      "cell_type": "markdown",
      "source": "Explain the accuracy results below. \n\n(YOUR ANSWER HERE)",
      "metadata": {
        "cell_id": "33cf1c3c939943d2b219776d44a062c9",
        "deepnote_cell_type": "markdown"
      }
    },
    {
      "cell_type": "markdown",
      "source": "## Metrics",
      "metadata": {
        "cell_id": "09e49f9adc3f4713992c3b93660719c2",
        "deepnote_cell_type": "markdown"
      }
    },
    {
      "cell_type": "markdown",
      "source": "Plot the ROC curve and print the AUC of the second model.",
      "metadata": {
        "cell_id": "747873ff4da445c4871b36656f2bd609",
        "deepnote_cell_type": "markdown"
      }
    },
    {
      "cell_type": "code",
      "source": "## YOUR CODE HERE",
      "metadata": {
        "cell_id": "0ff8d9dcefbb4d868afc26e9f6a56c14",
        "deepnote_cell_type": "code"
      },
      "outputs": [],
      "execution_count": null
    },
    {
      "cell_type": "markdown",
      "source": "Use graphviz to visualize your 2nd tree.",
      "metadata": {
        "id": "tKdqOMBKUvGZ",
        "colab_type": "text",
        "cell_id": "1d39d7846bd84f8cafdb80af88ca2aaf",
        "deepnote_cell_type": "markdown"
      }
    },
    {
      "cell_type": "code",
      "source": "## YOUR CODE HERE",
      "metadata": {
        "id": "8o55bY_jl8gj",
        "colab": {
          "autoexec": {
            "startup": false,
            "wait_interval": 0
          }
        },
        "colab_type": "code",
        "cell_id": "dc7f76739e6f416b9886441d20fd710b",
        "deepnote_cell_type": "code"
      },
      "outputs": [],
      "execution_count": 0
    },
    {
      "cell_type": "markdown",
      "source": "#### Use the graph above to answer the questions below",
      "metadata": {
        "id": "4iz4meWDVmo2",
        "colab_type": "text",
        "cell_id": "4d4c4000f88940b1806573f0a5d281d8",
        "deepnote_cell_type": "markdown"
      }
    },
    {
      "cell_type": "markdown",
      "source": "Question 1: What do you think X[n] represents in the nodes from the graph?\n\n(YOUR ANSWER HERE)",
      "metadata": {
        "id": "u1yM9h10WUEv",
        "colab_type": "text",
        "cell_id": "69439a9c5f7a4c50b0474cb827b4049f",
        "deepnote_cell_type": "markdown"
      }
    },
    {
      "cell_type": "markdown",
      "source": "Question 2: What is the root feature? Does it make sense as the root feature?\n\n(YOUR ANSWER HERE)",
      "metadata": {
        "id": "rA7B0oTaWUIe",
        "colab_type": "text",
        "cell_id": "031616958bf34acdb24b11625f35d780",
        "deepnote_cell_type": "markdown"
      }
    },
    {
      "cell_type": "markdown",
      "source": "Question 3: If you were to change the parameters to have a max_depth of 500 and min_samples_leaf of 1, what do you think the effect would be on the test accuracy? Training accuracy?\n\n(YOUR ANSWER HERE)",
      "metadata": {
        "id": "1t559pS3ZHES",
        "colab_type": "text",
        "cell_id": "27a682ff45d142c18e10ab41c313bbb8",
        "deepnote_cell_type": "markdown"
      }
    },
    {
      "cell_type": "markdown",
      "source": "**Test your guesses, create a model with max_depth=500 and min_samples_leaf=1, and predict values for the training and validation data**",
      "metadata": {
        "id": "7dnlqId2bIcR",
        "colab_type": "text",
        "cell_id": "3bdb3e5a998b448e84f6986ba82da883",
        "deepnote_cell_type": "markdown"
      }
    },
    {
      "cell_type": "code",
      "source": "## YOUR CODE HERE",
      "metadata": {
        "id": "hnUQKX9vl9Gy",
        "colab": {
          "height": 17,
          "autoexec": {
            "startup": false,
            "wait_interval": 0
          },
          "base_uri": "https://localhost:8080/"
        },
        "outputId": "ebaa5e52-a33f-4749-a3f6-6a3fde24da1f",
        "colab_type": "code",
        "executionInfo": {
          "user": {
            "userId": "102241934905781120798",
            "photoUrl": "https://lh3.googleusercontent.com/a/default-user=s128",
            "displayName": "john passarelli"
          },
          "status": "ok",
          "elapsed": 235,
          "user_tz": 240,
          "timestamp": 1530627843330
        },
        "cell_id": "a10f98912334419f8ce30599808511ef",
        "deepnote_cell_type": "code"
      },
      "outputs": [],
      "execution_count": 3
    },
    {
      "cell_type": "markdown",
      "source": "# Random Forest",
      "metadata": {
        "id": "40Psyt65pD8p",
        "colab_type": "text",
        "cell_id": "0f1294844cfd42758ec3d65365971246",
        "deepnote_cell_type": "markdown"
      }
    },
    {
      "cell_type": "markdown",
      "source": "## Creating Model\n\nCreate a model with sklearn's RandomForestClassifier and predict values on your validation set.",
      "metadata": {
        "id": "mjLu1MLIpGNF",
        "colab_type": "text",
        "cell_id": "3fd8270918564c5c929a9ed8acfb5322",
        "deepnote_cell_type": "markdown"
      }
    },
    {
      "cell_type": "code",
      "source": "## YOUR CODE HERE",
      "metadata": {
        "id": "TYwbpWxUfDIY",
        "colab": {
          "height": 37,
          "autoexec": {
            "startup": false,
            "wait_interval": 0
          },
          "base_uri": "https://localhost:8080/"
        },
        "outputId": "0008a18f-a9e3-4c04-b42e-adc8ce9aa966",
        "colab_type": "code",
        "executionInfo": {
          "user": {
            "userId": "102241934905781120798",
            "photoUrl": "https://lh3.googleusercontent.com/a/default-user=s128",
            "displayName": "john passarelli"
          },
          "status": "ok",
          "elapsed": 318,
          "user_tz": 240,
          "timestamp": 1530627847311
        },
        "cell_id": "f7cb45ea0fbe4b4e8e061069755b7b7f",
        "deepnote_cell_type": "code"
      },
      "outputs": [],
      "execution_count": 4
    },
    {
      "cell_type": "markdown",
      "source": "Print accuracy of training and validation data.",
      "metadata": {
        "id": "6Ys_J3O4pd0u",
        "colab_type": "text",
        "cell_id": "3d4eb2c1620e4a9683754a5ca892e332",
        "deepnote_cell_type": "markdown"
      }
    },
    {
      "cell_type": "code",
      "source": "## YOUR CODE HERE",
      "metadata": {
        "id": "aQdfjEWdfDOH",
        "colab": {
          "height": 17,
          "autoexec": {
            "startup": false,
            "wait_interval": 0
          },
          "base_uri": "https://localhost:8080/"
        },
        "outputId": "751008b5-156c-4bea-d599-37f84bd1b60c",
        "colab_type": "code",
        "executionInfo": {
          "user": {
            "userId": "102241934905781120798",
            "photoUrl": "https://lh3.googleusercontent.com/a/default-user=s128",
            "displayName": "john passarelli"
          },
          "status": "ok",
          "elapsed": 337,
          "user_tz": 240,
          "timestamp": 1530627851278
        },
        "cell_id": "4f30d7fd44a741199d6a740307fba4b4",
        "deepnote_cell_type": "code"
      },
      "outputs": [],
      "execution_count": 5
    },
    {
      "cell_type": "markdown",
      "source": "How did the accuracy compare to the decision tree's accuracy?\n\n(YOUR ANSWER HERE)",
      "metadata": {
        "cell_id": "f40f69f193114b879b4ed21167e59244",
        "deepnote_cell_type": "markdown"
      }
    },
    {
      "cell_type": "markdown",
      "source": "Print the 3 most important features (hint: sklearn has an attribute to help you find these)",
      "metadata": {
        "id": "jGlSHxuUqAnX",
        "colab_type": "text",
        "cell_id": "0bd7069ab8f24118ae533313fef3a169",
        "deepnote_cell_type": "markdown"
      }
    },
    {
      "cell_type": "code",
      "source": "## YOUR CODE HERE",
      "metadata": {
        "id": "5rVekWn0qw3r",
        "colab": {
          "height": 17,
          "autoexec": {
            "startup": false,
            "wait_interval": 0
          },
          "base_uri": "https://localhost:8080/"
        },
        "outputId": "d5e516d3-4f91-4394-b2e5-f26427b404ef",
        "colab_type": "code",
        "executionInfo": {
          "user": {
            "userId": "102241934905781120798",
            "photoUrl": "https://lh3.googleusercontent.com/a/default-user=s128",
            "displayName": "john passarelli"
          },
          "status": "ok",
          "elapsed": 448,
          "user_tz": 240,
          "timestamp": 1530627855691
        },
        "cell_id": "3e022c63f577465d9d13eab61d8427a6",
        "deepnote_cell_type": "code"
      },
      "outputs": [],
      "execution_count": 6
    },
    {
      "cell_type": "markdown",
      "source": "Find the accuracy for random forests with 1 to 100 trees, counting by 5. Print and then plot these accuracies.",
      "metadata": {
        "id": "lynu8pLDtd0S",
        "colab_type": "text",
        "cell_id": "13ff2da5108e458f9974b739df4147c7",
        "deepnote_cell_type": "markdown"
      }
    },
    {
      "cell_type": "code",
      "source": "## YOUR CODE HERE",
      "metadata": {
        "id": "e2hG7npcuM7f",
        "colab": {
          "height": 17,
          "autoexec": {
            "startup": false,
            "wait_interval": 0
          },
          "base_uri": "https://localhost:8080/"
        },
        "outputId": "fb9e32ed-fb17-462e-a2f2-8db7964bb3d7",
        "colab_type": "code",
        "executionInfo": {
          "user": {
            "userId": "102241934905781120798",
            "photoUrl": "https://lh3.googleusercontent.com/a/default-user=s128",
            "displayName": "john passarelli"
          },
          "status": "ok",
          "elapsed": 371,
          "user_tz": 240,
          "timestamp": 1530627860158
        },
        "cell_id": "fbbe2a763a024854ab334c0cad09ec87",
        "deepnote_cell_type": "code"
      },
      "outputs": [],
      "execution_count": 7
    },
    {
      "cell_type": "markdown",
      "source": "Plot the roc_curve using predict_proba a function for our random forest model, and metrics.roc_curve\n\nIt might help to google these functions and look at sklearn's documentation.",
      "metadata": {
        "cell_id": "5322a86a188349caba25983be72bfe55",
        "deepnote_cell_type": "markdown"
      }
    },
    {
      "cell_type": "code",
      "source": "## YOUR CODE HERE",
      "metadata": {
        "cell_id": "8a54c1118e0044ef97080e3fee724ce8",
        "deepnote_cell_type": "code"
      },
      "outputs": [],
      "execution_count": null
    },
    {
      "cell_type": "markdown",
      "source": "<a style='text-decoration:none;line-height:16px;display:flex;color:#5B5B62;padding:10px;justify-content:end;' href='https://deepnote.com?utm_source=created-in-deepnote-cell&projectId=20b705ef-e160-4a38-9f01-3cd5fbef1605' target=\"_blank\">\n<img alt='Created in deepnote.com' style='display:inline;max-height:16px;margin:0px;margin-right:7.5px;' src='data:image/svg+xml;base64,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' > </img>\nCreated in <span style='font-weight:600;margin-left:4px;'>Deepnote</span></a>",
      "metadata": {
        "created_in_deepnote_cell": true,
        "deepnote_cell_type": "markdown"
      }
    }
  ],
  "nbformat": 4,
  "nbformat_minor": 0,
  "metadata": {
    "colab": {
      "name": "DecisionTreeWorksheetStudent",
      "views": {},
      "version": "0.3.2",
      "provenance": [
        {
          "file_id": "165CSmT99w4_Sv1UENIyvIkH7ZEw2Xeh8",
          "timestamp": 1527780043079
        }
      ],
      "default_view": {},
      "collapsed_sections": []
    },
    "deepnote": {},
    "kernelspec": {
      "name": "python3",
      "language": "python",
      "display_name": "Python 3"
    },
    "language_info": {
      "name": "python",
      "version": "3.7.3",
      "mimetype": "text/x-python",
      "file_extension": ".py",
      "pygments_lexer": "ipython3",
      "codemirror_mode": {
        "name": "ipython",
        "version": 3
      },
      "nbconvert_exporter": "python"
    },
    "deepnote_notebook_id": "dc1a6413ebed467ebff66a80a8abfd89",
    "deepnote_execution_queue": []
  }
}