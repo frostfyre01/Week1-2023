{
  "cells": [
    {
      "cell_type": "markdown",
      "source": "# Regression Exercises",
      "metadata": {
        "id": "xTfQvqbXr9G1",
        "colab_type": "text",
        "cell_id": "8de99af48ed0456ca71176496b36ac60",
        "deepnote_cell_type": "markdown"
      }
    },
    {
      "cell_type": "markdown",
      "source": "## Linear",
      "metadata": {
        "id": "RAgvxOf_qm9m",
        "colab_type": "text",
        "cell_id": "7599ba3b42a14f71a94c4b0bd7b0ced6",
        "deepnote_cell_type": "markdown"
      }
    },
    {
      "cell_type": "code",
      "source": "# Loading data\nimport pandas as pd\nimport numpy as np\nfrom matplotlib import pyplot as plt\n\n# Read data from Github\ndata_url = \"https://raw.githubusercontent.com/BeaverWorksMedlytics2020/Data_Public/master/NotebookExampleData/Week1/ex1data2.txt\"\ndata_array = np.genfromtxt(data_url, delimiter=',')\n\n# The columns in this data set are define as folows:\n\"\"\"\n    0 = floor area\n    1 = number of bedrooms\n    2 = sale price\n\"\"\"\n    \n# Store the relevant columns in more descriptive variables\nx_sqft = data_array[:,0]\ny_value = data_array[:,2]",
      "metadata": {
        "id": "VohVqdqmr9G3",
        "colab": {},
        "colab_type": "code",
        "source_hash": null,
        "execution_start": 1625523077715,
        "execution_millis": 364,
        "deepnote_to_be_reexecuted": false,
        "cell_id": "3e90cd28acad4bf5b227385b49654798",
        "deepnote_cell_type": "code"
      },
      "outputs": [],
      "execution_count": null
    },
    {
      "cell_type": "markdown",
      "source": "Here we'll build off of the tutorial exercise, first finding the best linear fit for floor area (sqft) vs valued price (USD). Recall that setting the derivative = 0 and solving for 𝑏 & 𝑚 produces formula for the best fit trend:\n$$ m = \\frac{\\sum^n_{i=1} (x_i-x_{mean})(y_i-y_{mean})}{\\sum^n_{i=1} (x_i-x_{mean})^2} $$\n$$ b = y_{mean}-m*x_{mean} $$",
      "metadata": {
        "id": "bubHPtJ5r9G-",
        "colab_type": "text",
        "cell_id": "1f6b4e404a4447fa8e825d098906d35c",
        "deepnote_cell_type": "markdown"
      }
    },
    {
      "cell_type": "code",
      "source": "def find_best_fit(xx,yy):\n    '''\n      This function finds the best linear fit for yy vs xx\n    '''\n  \n    # YOUR CODE HERE",
      "metadata": {
        "id": "HaPeEPN8r9HA",
        "colab": {},
        "colab_type": "code",
        "source_hash": null,
        "execution_start": 1625523082488,
        "execution_millis": 4,
        "deepnote_to_be_reexecuted": false,
        "cell_id": "64fa979eb757428ea3374572f890c892",
        "deepnote_cell_type": "code"
      },
      "outputs": [],
      "execution_count": null
    },
    {
      "cell_type": "code",
      "source": "# Use your function to show the best fit values for our data\n(mm, bb) = find_best_fit(x_sqft, y_value)\nfit_str = 'y = {aa:.1f}x + {bb:.1f}'\nprint(fit_str.format(aa=mm,bb=bb))",
      "metadata": {
        "id": "mfZ7t4F9r9HH",
        "colab": {},
        "colab_type": "code",
        "source_hash": null,
        "execution_start": 1625523083277,
        "execution_millis": 135,
        "deepnote_to_be_reexecuted": false,
        "cell_id": "3c7686b536e74007b3ca36c836189577",
        "deepnote_cell_type": "code"
      },
      "outputs": [
        {
          "output_type": "error",
          "ename": "TypeError",
          "evalue": "cannot unpack non-iterable NoneType object",
          "traceback": [
            "\u001b[0;31m---------------------------------------------------------------------------\u001b[0m",
            "\u001b[0;31mTypeError\u001b[0m                                 Traceback (most recent call last)",
            "\u001b[0;32m<ipython-input-3-de8578ca5ece>\u001b[0m in \u001b[0;36m<module>\u001b[0;34m\u001b[0m\n\u001b[1;32m      1\u001b[0m \u001b[0;31m# Use your function to show the best fit values for our data\u001b[0m\u001b[0;34m\u001b[0m\u001b[0;34m\u001b[0m\u001b[0;34m\u001b[0m\u001b[0m\n\u001b[0;32m----> 2\u001b[0;31m \u001b[0;34m(\u001b[0m\u001b[0mmm\u001b[0m\u001b[0;34m,\u001b[0m\u001b[0mbb\u001b[0m\u001b[0;34m)\u001b[0m \u001b[0;34m=\u001b[0m \u001b[0mfind_best_fit\u001b[0m\u001b[0;34m(\u001b[0m\u001b[0mx_sqft\u001b[0m\u001b[0;34m,\u001b[0m \u001b[0my_value\u001b[0m\u001b[0;34m)\u001b[0m\u001b[0;34m\u001b[0m\u001b[0;34m\u001b[0m\u001b[0m\n\u001b[0m\u001b[1;32m      3\u001b[0m \u001b[0mfit_str\u001b[0m \u001b[0;34m=\u001b[0m \u001b[0;34m'y = {aa:.1f}x + {bb:.1f}'\u001b[0m\u001b[0;34m\u001b[0m\u001b[0;34m\u001b[0m\u001b[0m\n\u001b[1;32m      4\u001b[0m \u001b[0mprint\u001b[0m\u001b[0;34m(\u001b[0m\u001b[0mfit_str\u001b[0m\u001b[0;34m.\u001b[0m\u001b[0mformat\u001b[0m\u001b[0;34m(\u001b[0m\u001b[0maa\u001b[0m\u001b[0;34m=\u001b[0m\u001b[0mmm\u001b[0m\u001b[0;34m,\u001b[0m\u001b[0mbb\u001b[0m\u001b[0;34m=\u001b[0m\u001b[0mbb\u001b[0m\u001b[0;34m)\u001b[0m\u001b[0;34m)\u001b[0m\u001b[0;34m\u001b[0m\u001b[0;34m\u001b[0m\u001b[0m\n",
            "\u001b[0;31mTypeError\u001b[0m: cannot unpack non-iterable NoneType object"
          ]
        }
      ],
      "execution_count": null
    },
    {
      "cell_type": "markdown",
      "source": "Now we have the best fit trend line that minimizes total error for our data, let's try plotting it and see what it looks like. Since its just an equation, we need to *sample* the curve in order to plot it. To do this, we'll find the difference between the largest and smallest floor area, and divide it into 100 sample points.",
      "metadata": {
        "id": "jVYEfrpsr9HN",
        "colab_type": "text",
        "cell_id": "071cad10ca2d42f0b3a00b587056acf5",
        "deepnote_cell_type": "markdown"
      }
    },
    {
      "cell_type": "code",
      "source": "# Plot the data\n\n# Sample the range from minimum to maximum sqft to get 100 points\n\n# Apply the best fit equation to each sample point and plot the result",
      "metadata": {
        "id": "dZARuzL7r9HO",
        "colab": {},
        "colab_type": "code",
        "cell_id": "f4193bc487ef48309adaffd3ecde089d",
        "deepnote_cell_type": "code"
      },
      "outputs": [],
      "execution_count": null
    },
    {
      "cell_type": "markdown",
      "source": "1: Given these parameters, how much should a house with 1600 sqft cost?\n\n(YOUR ANSWER HERE)",
      "metadata": {
        "id": "ywlWE2xtr9HU",
        "colab_type": "text",
        "cell_id": "80dc15889fc043a494d40e87ab973a5f",
        "deepnote_cell_type": "markdown"
      }
    },
    {
      "cell_type": "markdown",
      "source": "2: From the dataset, how much did a house with 1600 sqft actually cost?\n\n(YOUR ANSWER HERE)",
      "metadata": {
        "id": "J4rZ9L_Rr9HV",
        "colab_type": "text",
        "cell_id": "34b6af65634a4d3c995caf5ba5b87a0c",
        "deepnote_cell_type": "markdown"
      }
    },
    {
      "cell_type": "markdown",
      "source": "3: Assuming the current 1600 sqft house would sell for as much as the historical one, how much money would we have lost? What percentage of the total price is this?\n\n(YOUR ANSWER HERE)",
      "metadata": {
        "id": "KTZMjw7rr9HW",
        "colab_type": "text",
        "cell_id": "e59c1d830e2c4ec59d7f354b2becf897",
        "deepnote_cell_type": "markdown"
      }
    },
    {
      "cell_type": "markdown",
      "source": "Now compare the values for 𝑚 and 𝑏 that sklearn generated in the tutorial notebook with the values that you found just now with your function. Hopefully they match.",
      "metadata": {
        "id": "UN9zGe6Mr9HY",
        "colab_type": "text",
        "cell_id": "f2de6f1366c440df8f87f3df67f6e34d",
        "deepnote_cell_type": "markdown"
      }
    },
    {
      "cell_type": "code",
      "source": "print(\"Sklearn:\",134.52528772, 71270.492448729)\nprint(\"My function:\",mm,bb)",
      "metadata": {
        "id": "CDw75BJrr9HZ",
        "colab": {},
        "colab_type": "code",
        "cell_id": "6ff0e2b7cfc143be9238ffa7f521bb47",
        "deepnote_cell_type": "code"
      },
      "outputs": [],
      "execution_count": null
    },
    {
      "cell_type": "markdown",
      "source": "---\nRemember how despite adding an entire new variable, the $R^2$ value barely increased? Let's investigate this further by finding the correlation ($R^2$) value for a regression of square footage vs. number of bedrooms.",
      "metadata": {
        "id": "L5R8SjF9r9Hf",
        "colab_type": "text",
        "cell_id": "850e19de15be4fc5be1ef8a0f8978dd7",
        "deepnote_cell_type": "markdown"
      }
    },
    {
      "cell_type": "code",
      "source": "import sklearn.linear_model as lm\n\n# YOUR CODE HERE",
      "metadata": {
        "id": "gMPm_HXgr9Hg",
        "colab": {},
        "colab_type": "code",
        "cell_id": "de29826587114dcfa57e6b2975c5dbc4",
        "deepnote_cell_type": "code"
      },
      "outputs": [],
      "execution_count": null
    },
    {
      "cell_type": "markdown",
      "source": "Do 2 variables have to be verry correlated to reduce their effectiveness together?\n\n(YOUR ANSWER HERE)",
      "metadata": {
        "id": "7QT8aPEQr9Hl",
        "colab_type": "text",
        "cell_id": "0db1bed7d04b43919583f63022973fdf",
        "deepnote_cell_type": "markdown"
      }
    },
    {
      "cell_type": "markdown",
      "source": "## Logistic",
      "metadata": {
        "id": "HY_jT1uksAYu",
        "colab_type": "text",
        "cell_id": "ee1b61df9dc04296b7a99fd5d3f306e2",
        "deepnote_cell_type": "markdown"
      }
    },
    {
      "cell_type": "markdown",
      "source": "We are going to predict wheter or not someone has breast cancer using Logistic Regression on sklearn's breast cancer dataset. It is up to you to decide what features to get the best results.",
      "metadata": {
        "id": "bTR7FOhdqm_e",
        "colab_type": "text",
        "cell_id": "117d1ae19a6e44478174e20dacde7e3b",
        "deepnote_cell_type": "markdown"
      }
    },
    {
      "cell_type": "code",
      "source": "from sklearn.datasets import load_breast_cancer\nfrom sklearn.model_selection import train_test_split\nfrom sklearn.linear_model import LogisticRegression\n\ndata = load_breast_cancer()\n\nX_cols = []\nY_cols = []\n\n# YOUR CODE HERE",
      "metadata": {
        "id": "Pg6kfm6VAdhN",
        "colab": {},
        "colab_type": "code",
        "cell_id": "0959d17ca5a0438abb60c68b68aff09b",
        "deepnote_cell_type": "code"
      },
      "outputs": [],
      "execution_count": null
    },
    {
      "cell_type": "markdown",
      "source": "Test your logistical regression! You must get an accuracy of > 80%",
      "metadata": {
        "id": "kUZXPX46CUS9",
        "colab_type": "text",
        "cell_id": "1e22bff43ac34b87b69ecedccd16f827",
        "deepnote_cell_type": "markdown"
      }
    },
    {
      "cell_type": "code",
      "source": "from sklearn.metrics import accuracy_score\n\n# YOUR CODE HERE\n\nprint(\"Validation Accuracy is \", accuracy_score(y_val,y_val_pred)*100)",
      "metadata": {
        "id": "AnPoDu-CCTsE",
        "colab": {},
        "colab_type": "code",
        "cell_id": "bc34b54b90b44644bc757eebbdeb9f1b",
        "deepnote_cell_type": "code"
      },
      "outputs": [],
      "execution_count": null
    },
    {
      "cell_type": "markdown",
      "source": "<a style='text-decoration:none;line-height:16px;display:flex;color:#5B5B62;padding:10px;justify-content:end;' href='https://deepnote.com?utm_source=created-in-deepnote-cell&projectId=20b705ef-e160-4a38-9f01-3cd5fbef1605' target=\"_blank\">\n<img alt='Created in deepnote.com' style='display:inline;max-height:16px;margin:0px;margin-right:7.5px;' src='data:image/svg+xml;base64,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' > </img>\nCreated in <span style='font-weight:600;margin-left:4px;'>Deepnote</span></a>",
      "metadata": {
        "created_in_deepnote_cell": true,
        "deepnote_cell_type": "markdown"
      }
    }
  ],
  "nbformat": 4,
  "nbformat_minor": 0,
  "metadata": {
    "colab": {
      "name": "Regression_Exercises",
      "provenance": []
    },
    "deepnote": {},
    "kernelspec": {
      "name": "python3",
      "language": "python",
      "display_name": "Python 3"
    },
    "language_info": {
      "name": "python",
      "version": "3.7.3",
      "mimetype": "text/x-python",
      "file_extension": ".py",
      "pygments_lexer": "ipython3",
      "codemirror_mode": {
        "name": "ipython",
        "version": 3
      },
      "nbconvert_exporter": "python"
    },
    "deepnote_notebook_id": "8dbde9d08de04384a22d029c0a436a63",
    "deepnote_execution_queue": []
  }
}