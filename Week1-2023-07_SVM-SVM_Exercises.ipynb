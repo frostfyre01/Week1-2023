{
  "cells": [
    {
      "cell_type": "markdown",
      "source": "# SVM Exercises",
      "metadata": {
        "id": "-UimMCmGe19F",
        "colab_type": "text",
        "cell_id": "0a7013266e4145b8a11534297caed960",
        "deepnote_cell_type": "markdown"
      }
    },
    {
      "cell_type": "code",
      "source": "import numpy as np\nimport pandas as pd\nfrom sklearn.model_selection import train_test_split\nimport matplotlib.pyplot as plt\n\nfrom sklearn import svm\nfrom sklearn.metrics import accuracy_score\nfrom sklearn.svm import SVC\nfrom sklearn import metrics",
      "metadata": {
        "id": "kedW02LgKjVL",
        "colab": {},
        "colab_type": "code",
        "source_hash": "e026d9ad",
        "execution_start": 1689198826618,
        "execution_millis": 1908,
        "deepnote_to_be_reexecuted": false,
        "cell_id": "dda5a632c69d4f8fa5ec12862fe8635f",
        "deepnote_cell_type": "code"
      },
      "outputs": [],
      "execution_count": 1
    },
    {
      "cell_type": "markdown",
      "source": "Load Pima diabetes dataset",
      "metadata": {
        "id": "RxeCyhoaTAQC",
        "colab_type": "text",
        "cell_id": "128bfb9ab91244018c8412c972edefe6",
        "deepnote_cell_type": "markdown"
      }
    },
    {
      "cell_type": "code",
      "source": "url = \"https://raw.githubusercontent.com/BeaverWorksMedlytics2020/Data_Public/master/NotebookExampleData/Week1/diabetes.csv\"\nnames = ['preg', 'plas', 'pres', 'skin', 'test', 'mass', 'pedi', 'age', 'class']\n\ndata = pd.read_csv(url, names=names)\n\ninvalid = ['preg', 'skin', 'test']\n\nfor i in invalid:\n    data[i].replace(to_replace=0, value=np.nan, inplace=True)\n    \ndata = data.dropna(axis=0).reset_index(drop=True)\n\ndata.head()",
      "metadata": {
        "id": "Ydh9gmDkMGmu",
        "colab": {},
        "colab_type": "code",
        "source_hash": "65239bc2",
        "execution_start": 1689198828558,
        "execution_millis": 514,
        "deepnote_to_be_reexecuted": false,
        "cell_id": "7c9237a764fc4eaf8c6ab2771936d7c2",
        "deepnote_cell_type": "code"
      },
      "outputs": [
        {
          "output_type": "execute_result",
          "execution_count": 2,
          "data": {
            "application/vnd.deepnote.dataframe.v3+json": {
              "column_count": 9,
              "row_count": 5,
              "columns": [
                {
                  "name": "preg",
                  "dtype": "float64",
                  "stats": {
                    "unique_count": 4,
                    "nan_count": 0,
                    "min": "1.0",
                    "max": "5.0",
                    "histogram": [
                      {
                        "bin_start": 1,
                        "bin_end": 1.4,
                        "count": 2
                      },
                      {
                        "bin_start": 1.4,
                        "bin_end": 1.8,
                        "count": 0
                      },
                      {
                        "bin_start": 1.8,
                        "bin_end": 2.2,
                        "count": 1
                      },
                      {
                        "bin_start": 2.2,
                        "bin_end": 2.6,
                        "count": 0
                      },
                      {
                        "bin_start": 2.6,
                        "bin_end": 3,
                        "count": 0
                      },
                      {
                        "bin_start": 3,
                        "bin_end": 3.4000000000000004,
                        "count": 1
                      },
                      {
                        "bin_start": 3.4000000000000004,
                        "bin_end": 3.8000000000000003,
                        "count": 0
                      },
                      {
                        "bin_start": 3.8000000000000003,
                        "bin_end": 4.2,
                        "count": 0
                      },
                      {
                        "bin_start": 4.2,
                        "bin_end": 4.6,
                        "count": 0
                      },
                      {
                        "bin_start": 4.6,
                        "bin_end": 5,
                        "count": 1
                      }
                    ]
                  }
                },
                {
                  "name": "plas",
                  "dtype": "int64",
                  "stats": {
                    "unique_count": 5,
                    "nan_count": 0,
                    "min": "78",
                    "max": "197",
                    "histogram": [
                      {
                        "bin_start": 78,
                        "bin_end": 89.9,
                        "count": 2
                      },
                      {
                        "bin_start": 89.9,
                        "bin_end": 101.8,
                        "count": 0
                      },
                      {
                        "bin_start": 101.8,
                        "bin_end": 113.7,
                        "count": 0
                      },
                      {
                        "bin_start": 113.7,
                        "bin_end": 125.6,
                        "count": 0
                      },
                      {
                        "bin_start": 125.6,
                        "bin_end": 137.5,
                        "count": 0
                      },
                      {
                        "bin_start": 137.5,
                        "bin_end": 149.4,
                        "count": 0
                      },
                      {
                        "bin_start": 149.4,
                        "bin_end": 161.3,
                        "count": 0
                      },
                      {
                        "bin_start": 161.3,
                        "bin_end": 173.2,
                        "count": 1
                      },
                      {
                        "bin_start": 173.2,
                        "bin_end": 185.10000000000002,
                        "count": 0
                      },
                      {
                        "bin_start": 185.10000000000002,
                        "bin_end": 197,
                        "count": 2
                      }
                    ]
                  }
                },
                {
                  "name": "pres",
                  "dtype": "int64",
                  "stats": {
                    "unique_count": 5,
                    "nan_count": 0,
                    "min": "50",
                    "max": "72",
                    "histogram": [
                      {
                        "bin_start": 50,
                        "bin_end": 52.2,
                        "count": 1
                      },
                      {
                        "bin_start": 52.2,
                        "bin_end": 54.4,
                        "count": 0
                      },
                      {
                        "bin_start": 54.4,
                        "bin_end": 56.6,
                        "count": 0
                      },
                      {
                        "bin_start": 56.6,
                        "bin_end": 58.8,
                        "count": 0
                      },
                      {
                        "bin_start": 58.8,
                        "bin_end": 61,
                        "count": 1
                      },
                      {
                        "bin_start": 61,
                        "bin_end": 63.2,
                        "count": 0
                      },
                      {
                        "bin_start": 63.2,
                        "bin_end": 65.4,
                        "count": 0
                      },
                      {
                        "bin_start": 65.4,
                        "bin_end": 67.6,
                        "count": 1
                      },
                      {
                        "bin_start": 67.6,
                        "bin_end": 69.8,
                        "count": 0
                      },
                      {
                        "bin_start": 69.8,
                        "bin_end": 72,
                        "count": 2
                      }
                    ]
                  }
                },
                {
                  "name": "skin",
                  "dtype": "float64",
                  "stats": {
                    "unique_count": 4,
                    "nan_count": 0,
                    "min": "19.0",
                    "max": "45.0",
                    "histogram": [
                      {
                        "bin_start": 19,
                        "bin_end": 21.6,
                        "count": 1
                      },
                      {
                        "bin_start": 21.6,
                        "bin_end": 24.2,
                        "count": 2
                      },
                      {
                        "bin_start": 24.2,
                        "bin_end": 26.8,
                        "count": 0
                      },
                      {
                        "bin_start": 26.8,
                        "bin_end": 29.4,
                        "count": 0
                      },
                      {
                        "bin_start": 29.4,
                        "bin_end": 32,
                        "count": 0
                      },
                      {
                        "bin_start": 32,
                        "bin_end": 34.6,
                        "count": 1
                      },
                      {
                        "bin_start": 34.6,
                        "bin_end": 37.2,
                        "count": 0
                      },
                      {
                        "bin_start": 37.2,
                        "bin_end": 39.8,
                        "count": 0
                      },
                      {
                        "bin_start": 39.8,
                        "bin_end": 42.400000000000006,
                        "count": 0
                      },
                      {
                        "bin_start": 42.400000000000006,
                        "bin_end": 45,
                        "count": 1
                      }
                    ]
                  }
                },
                {
                  "name": "test",
                  "dtype": "float64",
                  "stats": {
                    "unique_count": 5,
                    "nan_count": 0,
                    "min": "88.0",
                    "max": "846.0",
                    "histogram": [
                      {
                        "bin_start": 88,
                        "bin_end": 163.8,
                        "count": 2
                      },
                      {
                        "bin_start": 163.8,
                        "bin_end": 239.6,
                        "count": 1
                      },
                      {
                        "bin_start": 239.6,
                        "bin_end": 315.4,
                        "count": 0
                      },
                      {
                        "bin_start": 315.4,
                        "bin_end": 391.2,
                        "count": 0
                      },
                      {
                        "bin_start": 391.2,
                        "bin_end": 467,
                        "count": 0
                      },
                      {
                        "bin_start": 467,
                        "bin_end": 542.8,
                        "count": 0
                      },
                      {
                        "bin_start": 542.8,
                        "bin_end": 618.6,
                        "count": 1
                      },
                      {
                        "bin_start": 618.6,
                        "bin_end": 694.4,
                        "count": 0
                      },
                      {
                        "bin_start": 694.4,
                        "bin_end": 770.1999999999999,
                        "count": 0
                      },
                      {
                        "bin_start": 770.1999999999999,
                        "bin_end": 846,
                        "count": 1
                      }
                    ]
                  }
                },
                {
                  "name": "mass",
                  "dtype": "float64",
                  "stats": {
                    "unique_count": 5,
                    "nan_count": 0,
                    "min": "25.8",
                    "max": "31.0",
                    "histogram": [
                      {
                        "bin_start": 25.8,
                        "bin_end": 26.32,
                        "count": 1
                      },
                      {
                        "bin_start": 26.32,
                        "bin_end": 26.84,
                        "count": 0
                      },
                      {
                        "bin_start": 26.84,
                        "bin_end": 27.36,
                        "count": 0
                      },
                      {
                        "bin_start": 27.36,
                        "bin_end": 27.88,
                        "count": 0
                      },
                      {
                        "bin_start": 27.88,
                        "bin_end": 28.4,
                        "count": 1
                      },
                      {
                        "bin_start": 28.4,
                        "bin_end": 28.92,
                        "count": 0
                      },
                      {
                        "bin_start": 28.92,
                        "bin_end": 29.44,
                        "count": 0
                      },
                      {
                        "bin_start": 29.44,
                        "bin_end": 29.96,
                        "count": 0
                      },
                      {
                        "bin_start": 29.96,
                        "bin_end": 30.48,
                        "count": 1
                      },
                      {
                        "bin_start": 30.48,
                        "bin_end": 31,
                        "count": 2
                      }
                    ]
                  }
                },
                {
                  "name": "pedi",
                  "dtype": "float64",
                  "stats": {
                    "unique_count": 5,
                    "nan_count": 0,
                    "min": "0.158",
                    "max": "0.587",
                    "histogram": [
                      {
                        "bin_start": 0.158,
                        "bin_end": 0.2009,
                        "count": 2
                      },
                      {
                        "bin_start": 0.2009,
                        "bin_end": 0.2438,
                        "count": 0
                      },
                      {
                        "bin_start": 0.2438,
                        "bin_end": 0.28669999999999995,
                        "count": 1
                      },
                      {
                        "bin_start": 0.28669999999999995,
                        "bin_end": 0.3296,
                        "count": 0
                      },
                      {
                        "bin_start": 0.3296,
                        "bin_end": 0.37249999999999994,
                        "count": 0
                      },
                      {
                        "bin_start": 0.37249999999999994,
                        "bin_end": 0.4154,
                        "count": 1
                      },
                      {
                        "bin_start": 0.4154,
                        "bin_end": 0.45829999999999993,
                        "count": 0
                      },
                      {
                        "bin_start": 0.45829999999999993,
                        "bin_end": 0.5012,
                        "count": 0
                      },
                      {
                        "bin_start": 0.5012,
                        "bin_end": 0.5440999999999999,
                        "count": 0
                      },
                      {
                        "bin_start": 0.5440999999999999,
                        "bin_end": 0.587,
                        "count": 1
                      }
                    ]
                  }
                },
                {
                  "name": "age",
                  "dtype": "int64",
                  "stats": {
                    "unique_count": 5,
                    "nan_count": 0,
                    "min": "21",
                    "max": "59",
                    "histogram": [
                      {
                        "bin_start": 21,
                        "bin_end": 24.8,
                        "count": 1
                      },
                      {
                        "bin_start": 24.8,
                        "bin_end": 28.6,
                        "count": 1
                      },
                      {
                        "bin_start": 28.6,
                        "bin_end": 32.4,
                        "count": 0
                      },
                      {
                        "bin_start": 32.4,
                        "bin_end": 36.2,
                        "count": 0
                      },
                      {
                        "bin_start": 36.2,
                        "bin_end": 40,
                        "count": 0
                      },
                      {
                        "bin_start": 40,
                        "bin_end": 43.8,
                        "count": 0
                      },
                      {
                        "bin_start": 43.8,
                        "bin_end": 47.599999999999994,
                        "count": 0
                      },
                      {
                        "bin_start": 47.599999999999994,
                        "bin_end": 51.4,
                        "count": 1
                      },
                      {
                        "bin_start": 51.4,
                        "bin_end": 55.199999999999996,
                        "count": 1
                      },
                      {
                        "bin_start": 55.199999999999996,
                        "bin_end": 59,
                        "count": 1
                      }
                    ]
                  }
                },
                {
                  "name": "class",
                  "dtype": "int64",
                  "stats": {
                    "unique_count": 2,
                    "nan_count": 0,
                    "min": "0",
                    "max": "1",
                    "histogram": [
                      {
                        "bin_start": 0,
                        "bin_end": 0.1,
                        "count": 1
                      },
                      {
                        "bin_start": 0.1,
                        "bin_end": 0.2,
                        "count": 0
                      },
                      {
                        "bin_start": 0.2,
                        "bin_end": 0.30000000000000004,
                        "count": 0
                      },
                      {
                        "bin_start": 0.30000000000000004,
                        "bin_end": 0.4,
                        "count": 0
                      },
                      {
                        "bin_start": 0.4,
                        "bin_end": 0.5,
                        "count": 0
                      },
                      {
                        "bin_start": 0.5,
                        "bin_end": 0.6000000000000001,
                        "count": 0
                      },
                      {
                        "bin_start": 0.6000000000000001,
                        "bin_end": 0.7000000000000001,
                        "count": 0
                      },
                      {
                        "bin_start": 0.7000000000000001,
                        "bin_end": 0.8,
                        "count": 0
                      },
                      {
                        "bin_start": 0.8,
                        "bin_end": 0.9,
                        "count": 0
                      },
                      {
                        "bin_start": 0.9,
                        "bin_end": 1,
                        "count": 4
                      }
                    ]
                  }
                },
                {
                  "name": "_deepnote_index_column",
                  "dtype": "int64"
                }
              ],
              "rows": [
                {
                  "preg": 1,
                  "plas": 89,
                  "pres": 66,
                  "skin": 23,
                  "test": 94,
                  "mass": 28.1,
                  "pedi": 0.167,
                  "age": 21,
                  "class": 0,
                  "_deepnote_index_column": 0
                },
                {
                  "preg": 3,
                  "plas": 78,
                  "pres": 50,
                  "skin": 32,
                  "test": 88,
                  "mass": 31,
                  "pedi": 0.248,
                  "age": 26,
                  "class": 1,
                  "_deepnote_index_column": 1
                },
                {
                  "preg": 2,
                  "plas": 197,
                  "pres": 70,
                  "skin": 45,
                  "test": 543,
                  "mass": 30.5,
                  "pedi": 0.158,
                  "age": 53,
                  "class": 1,
                  "_deepnote_index_column": 2
                },
                {
                  "preg": 1,
                  "plas": 189,
                  "pres": 60,
                  "skin": 23,
                  "test": 846,
                  "mass": 30.1,
                  "pedi": 0.398,
                  "age": 59,
                  "class": 1,
                  "_deepnote_index_column": 3
                },
                {
                  "preg": 5,
                  "plas": 166,
                  "pres": 72,
                  "skin": 19,
                  "test": 175,
                  "mass": 25.8,
                  "pedi": 0.587,
                  "age": 51,
                  "class": 1,
                  "_deepnote_index_column": 4
                }
              ]
            },
            "text/plain": "   preg  plas  pres  skin   test  mass   pedi  age  class\n0   1.0    89    66  23.0   94.0  28.1  0.167   21      0\n1   3.0    78    50  32.0   88.0  31.0  0.248   26      1\n2   2.0   197    70  45.0  543.0  30.5  0.158   53      1\n3   1.0   189    60  23.0  846.0  30.1  0.398   59      1\n4   5.0   166    72  19.0  175.0  25.8  0.587   51      1",
            "text/html": "<div>\n<style scoped>\n    .dataframe tbody tr th:only-of-type {\n        vertical-align: middle;\n    }\n\n    .dataframe tbody tr th {\n        vertical-align: top;\n    }\n\n    .dataframe thead th {\n        text-align: right;\n    }\n</style>\n<table border=\"1\" class=\"dataframe\">\n  <thead>\n    <tr style=\"text-align: right;\">\n      <th></th>\n      <th>preg</th>\n      <th>plas</th>\n      <th>pres</th>\n      <th>skin</th>\n      <th>test</th>\n      <th>mass</th>\n      <th>pedi</th>\n      <th>age</th>\n      <th>class</th>\n    </tr>\n  </thead>\n  <tbody>\n    <tr>\n      <th>0</th>\n      <td>1.0</td>\n      <td>89</td>\n      <td>66</td>\n      <td>23.0</td>\n      <td>94.0</td>\n      <td>28.1</td>\n      <td>0.167</td>\n      <td>21</td>\n      <td>0</td>\n    </tr>\n    <tr>\n      <th>1</th>\n      <td>3.0</td>\n      <td>78</td>\n      <td>50</td>\n      <td>32.0</td>\n      <td>88.0</td>\n      <td>31.0</td>\n      <td>0.248</td>\n      <td>26</td>\n      <td>1</td>\n    </tr>\n    <tr>\n      <th>2</th>\n      <td>2.0</td>\n      <td>197</td>\n      <td>70</td>\n      <td>45.0</td>\n      <td>543.0</td>\n      <td>30.5</td>\n      <td>0.158</td>\n      <td>53</td>\n      <td>1</td>\n    </tr>\n    <tr>\n      <th>3</th>\n      <td>1.0</td>\n      <td>189</td>\n      <td>60</td>\n      <td>23.0</td>\n      <td>846.0</td>\n      <td>30.1</td>\n      <td>0.398</td>\n      <td>59</td>\n      <td>1</td>\n    </tr>\n    <tr>\n      <th>4</th>\n      <td>5.0</td>\n      <td>166</td>\n      <td>72</td>\n      <td>19.0</td>\n      <td>175.0</td>\n      <td>25.8</td>\n      <td>0.587</td>\n      <td>51</td>\n      <td>1</td>\n    </tr>\n  </tbody>\n</table>\n</div>"
          },
          "metadata": {}
        }
      ],
      "execution_count": 2
    },
    {
      "cell_type": "markdown",
      "source": "Split data into training, colidation, and test sets with a test size of 25%",
      "metadata": {
        "id": "1O5s3G_ncGmw",
        "colab_type": "text",
        "cell_id": "bbee9a0b77844f36996a0edd708c8865",
        "deepnote_cell_type": "markdown"
      }
    },
    {
      "cell_type": "code",
      "source": "X_cols = ['preg', 'plas', 'pres', 'skin', 'test', 'mass', 'pedi', 'age']\n\ny_col = 'class'\n\ntest_size = 0.25\nX_train, X_test, y_train, y_test = train_test_split(data[X_cols], data[y_col], test_size=test_size, random_state=0)\n\n# Further split X and y of training into training and validation sets\nX_train, X_val, y_train, y_val = train_test_split(X_train, y_train, test_size=test_size, random_state=0)",
      "metadata": {
        "id": "LfmYBpMicLdi",
        "colab": {},
        "colab_type": "code",
        "source_hash": "ef1bd665",
        "execution_start": 1689198828698,
        "execution_millis": 19,
        "deepnote_to_be_reexecuted": false,
        "cell_id": "b7c1217ac0514132ba49b4db6ee8a2b4",
        "deepnote_cell_type": "code"
      },
      "outputs": [],
      "execution_count": 3
    },
    {
      "cell_type": "markdown",
      "source": "Create a model with sklearn's SVC and a high gamma value (perhaps 1.0)",
      "metadata": {
        "id": "uluFKd1hTAQK",
        "colab_type": "text",
        "cell_id": "8922ed73c57c4cfda7c0aa5faf06f76f",
        "deepnote_cell_type": "markdown"
      }
    },
    {
      "cell_type": "code",
      "source": "svm = SVC(gamma = 1.0)\n\nsvm.fit(X_train, y_train)",
      "metadata": {
        "id": "9rYQecrQ8yjn",
        "colab": {},
        "colab_type": "code",
        "source_hash": "96a0babd",
        "execution_start": 1689198828722,
        "execution_millis": 77,
        "deepnote_to_be_reexecuted": false,
        "cell_id": "ac0b014f89814927b3ffadfbf55f3ecc",
        "deepnote_cell_type": "code"
      },
      "outputs": [
        {
          "output_type": "execute_result",
          "execution_count": 4,
          "data": {
            "text/plain": "SVC(gamma=1.0)",
            "text/html": "<style>#sk-container-id-1 {color: black;background-color: white;}#sk-container-id-1 pre{padding: 0;}#sk-container-id-1 div.sk-toggleable {background-color: white;}#sk-container-id-1 label.sk-toggleable__label {cursor: pointer;display: block;width: 100%;margin-bottom: 0;padding: 0.3em;box-sizing: border-box;text-align: center;}#sk-container-id-1 label.sk-toggleable__label-arrow:before {content: \"▸\";float: left;margin-right: 0.25em;color: #696969;}#sk-container-id-1 label.sk-toggleable__label-arrow:hover:before {color: black;}#sk-container-id-1 div.sk-estimator:hover label.sk-toggleable__label-arrow:before {color: black;}#sk-container-id-1 div.sk-toggleable__content {max-height: 0;max-width: 0;overflow: hidden;text-align: left;background-color: #f0f8ff;}#sk-container-id-1 div.sk-toggleable__content pre {margin: 0.2em;color: black;border-radius: 0.25em;background-color: #f0f8ff;}#sk-container-id-1 input.sk-toggleable__control:checked~div.sk-toggleable__content {max-height: 200px;max-width: 100%;overflow: auto;}#sk-container-id-1 input.sk-toggleable__control:checked~label.sk-toggleable__label-arrow:before {content: \"▾\";}#sk-container-id-1 div.sk-estimator input.sk-toggleable__control:checked~label.sk-toggleable__label {background-color: #d4ebff;}#sk-container-id-1 div.sk-label input.sk-toggleable__control:checked~label.sk-toggleable__label {background-color: #d4ebff;}#sk-container-id-1 input.sk-hidden--visually {border: 0;clip: rect(1px 1px 1px 1px);clip: rect(1px, 1px, 1px, 1px);height: 1px;margin: -1px;overflow: hidden;padding: 0;position: absolute;width: 1px;}#sk-container-id-1 div.sk-estimator {font-family: monospace;background-color: #f0f8ff;border: 1px dotted black;border-radius: 0.25em;box-sizing: border-box;margin-bottom: 0.5em;}#sk-container-id-1 div.sk-estimator:hover {background-color: #d4ebff;}#sk-container-id-1 div.sk-parallel-item::after {content: \"\";width: 100%;border-bottom: 1px solid gray;flex-grow: 1;}#sk-container-id-1 div.sk-label:hover label.sk-toggleable__label {background-color: #d4ebff;}#sk-container-id-1 div.sk-serial::before {content: \"\";position: absolute;border-left: 1px solid gray;box-sizing: border-box;top: 0;bottom: 0;left: 50%;z-index: 0;}#sk-container-id-1 div.sk-serial {display: flex;flex-direction: column;align-items: center;background-color: white;padding-right: 0.2em;padding-left: 0.2em;position: relative;}#sk-container-id-1 div.sk-item {position: relative;z-index: 1;}#sk-container-id-1 div.sk-parallel {display: flex;align-items: stretch;justify-content: center;background-color: white;position: relative;}#sk-container-id-1 div.sk-item::before, #sk-container-id-1 div.sk-parallel-item::before {content: \"\";position: absolute;border-left: 1px solid gray;box-sizing: border-box;top: 0;bottom: 0;left: 50%;z-index: -1;}#sk-container-id-1 div.sk-parallel-item {display: flex;flex-direction: column;z-index: 1;position: relative;background-color: white;}#sk-container-id-1 div.sk-parallel-item:first-child::after {align-self: flex-end;width: 50%;}#sk-container-id-1 div.sk-parallel-item:last-child::after {align-self: flex-start;width: 50%;}#sk-container-id-1 div.sk-parallel-item:only-child::after {width: 0;}#sk-container-id-1 div.sk-dashed-wrapped {border: 1px dashed gray;margin: 0 0.4em 0.5em 0.4em;box-sizing: border-box;padding-bottom: 0.4em;background-color: white;}#sk-container-id-1 div.sk-label label {font-family: monospace;font-weight: bold;display: inline-block;line-height: 1.2em;}#sk-container-id-1 div.sk-label-container {text-align: center;}#sk-container-id-1 div.sk-container {/* jupyter's `normalize.less` sets `[hidden] { display: none; }` but bootstrap.min.css set `[hidden] { display: none !important; }` so we also need the `!important` here to be able to override the default hidden behavior on the sphinx rendered scikit-learn.org. See: https://github.com/scikit-learn/scikit-learn/issues/21755 */display: inline-block !important;position: relative;}#sk-container-id-1 div.sk-text-repr-fallback {display: none;}</style><div id=\"sk-container-id-1\" class=\"sk-top-container\"><div class=\"sk-text-repr-fallback\"><pre>SVC(gamma=1.0)</pre><b>In a Jupyter environment, please rerun this cell to show the HTML representation or trust the notebook. <br />On GitHub, the HTML representation is unable to render, please try loading this page with nbviewer.org.</b></div><div class=\"sk-container\" hidden><div class=\"sk-item\"><div class=\"sk-estimator sk-toggleable\"><input class=\"sk-toggleable__control sk-hidden--visually\" id=\"sk-estimator-id-1\" type=\"checkbox\" checked><label for=\"sk-estimator-id-1\" class=\"sk-toggleable__label sk-toggleable__label-arrow\">SVC</label><div class=\"sk-toggleable__content\"><pre>SVC(gamma=1.0)</pre></div></div></div></div></div>"
          },
          "metadata": {}
        }
      ],
      "execution_count": 4
    },
    {
      "cell_type": "markdown",
      "source": "Print accuracy of training and validation data",
      "metadata": {
        "id": "qdiqjUje4ll-",
        "colab_type": "text",
        "cell_id": "3c8f866283a34be394b0582a89c5cc23",
        "deepnote_cell_type": "markdown"
      }
    },
    {
      "cell_type": "code",
      "source": "y_train_pred=svm.predict(X_train)\nprint(\"Training Accuracy is \", accuracy_score(y_train, y_train_pred)*100)\ny_val_pred=svm.predict(X_val)\nprint(\"Validation Accuracy is \", accuracy_score(y_val,y_val_pred)*100)",
      "metadata": {
        "id": "O5LqepHk9S0M",
        "colab": {},
        "colab_type": "code",
        "source_hash": "19f9af73",
        "execution_start": 1689198828724,
        "execution_millis": 21,
        "deepnote_to_be_reexecuted": false,
        "cell_id": "b0de7d1e9e824bba833e96f3d4277b37",
        "deepnote_cell_type": "code"
      },
      "outputs": [
        {
          "name": "stdout",
          "text": "Training Accuracy is  100.0\nValidation Accuracy is  76.19047619047619\n",
          "output_type": "stream"
        }
      ],
      "execution_count": 5
    },
    {
      "cell_type": "markdown",
      "source": "Create a model with sklearn's SVC and a low gamma value (perhaps .001)",
      "metadata": {
        "id": "fC7VlLtI3ZjQ",
        "colab_type": "text",
        "cell_id": "0102818e357b4564b0285f6942af11f8",
        "deepnote_cell_type": "markdown"
      }
    },
    {
      "cell_type": "code",
      "source": "low_gamma_svm = SVC(gamma = 0.001)\n\nlow_gamma_svm.fit(X_train, y_train)",
      "metadata": {
        "id": "3vVHnWuY9pFN",
        "colab": {},
        "colab_type": "code",
        "source_hash": "4ab22dcd",
        "execution_start": 1689198828735,
        "execution_millis": 749,
        "deepnote_to_be_reexecuted": false,
        "cell_id": "94e7b82c5ece46e890312c024b5e8830",
        "deepnote_cell_type": "code"
      },
      "outputs": [
        {
          "output_type": "execute_result",
          "execution_count": 6,
          "data": {
            "text/plain": "SVC(gamma=0.001)",
            "text/html": "<style>#sk-container-id-2 {color: black;background-color: white;}#sk-container-id-2 pre{padding: 0;}#sk-container-id-2 div.sk-toggleable {background-color: white;}#sk-container-id-2 label.sk-toggleable__label {cursor: pointer;display: block;width: 100%;margin-bottom: 0;padding: 0.3em;box-sizing: border-box;text-align: center;}#sk-container-id-2 label.sk-toggleable__label-arrow:before {content: \"▸\";float: left;margin-right: 0.25em;color: #696969;}#sk-container-id-2 label.sk-toggleable__label-arrow:hover:before {color: black;}#sk-container-id-2 div.sk-estimator:hover label.sk-toggleable__label-arrow:before {color: black;}#sk-container-id-2 div.sk-toggleable__content {max-height: 0;max-width: 0;overflow: hidden;text-align: left;background-color: #f0f8ff;}#sk-container-id-2 div.sk-toggleable__content pre {margin: 0.2em;color: black;border-radius: 0.25em;background-color: #f0f8ff;}#sk-container-id-2 input.sk-toggleable__control:checked~div.sk-toggleable__content {max-height: 200px;max-width: 100%;overflow: auto;}#sk-container-id-2 input.sk-toggleable__control:checked~label.sk-toggleable__label-arrow:before {content: \"▾\";}#sk-container-id-2 div.sk-estimator input.sk-toggleable__control:checked~label.sk-toggleable__label {background-color: #d4ebff;}#sk-container-id-2 div.sk-label input.sk-toggleable__control:checked~label.sk-toggleable__label {background-color: #d4ebff;}#sk-container-id-2 input.sk-hidden--visually {border: 0;clip: rect(1px 1px 1px 1px);clip: rect(1px, 1px, 1px, 1px);height: 1px;margin: -1px;overflow: hidden;padding: 0;position: absolute;width: 1px;}#sk-container-id-2 div.sk-estimator {font-family: monospace;background-color: #f0f8ff;border: 1px dotted black;border-radius: 0.25em;box-sizing: border-box;margin-bottom: 0.5em;}#sk-container-id-2 div.sk-estimator:hover {background-color: #d4ebff;}#sk-container-id-2 div.sk-parallel-item::after {content: \"\";width: 100%;border-bottom: 1px solid gray;flex-grow: 1;}#sk-container-id-2 div.sk-label:hover label.sk-toggleable__label {background-color: #d4ebff;}#sk-container-id-2 div.sk-serial::before {content: \"\";position: absolute;border-left: 1px solid gray;box-sizing: border-box;top: 0;bottom: 0;left: 50%;z-index: 0;}#sk-container-id-2 div.sk-serial {display: flex;flex-direction: column;align-items: center;background-color: white;padding-right: 0.2em;padding-left: 0.2em;position: relative;}#sk-container-id-2 div.sk-item {position: relative;z-index: 1;}#sk-container-id-2 div.sk-parallel {display: flex;align-items: stretch;justify-content: center;background-color: white;position: relative;}#sk-container-id-2 div.sk-item::before, #sk-container-id-2 div.sk-parallel-item::before {content: \"\";position: absolute;border-left: 1px solid gray;box-sizing: border-box;top: 0;bottom: 0;left: 50%;z-index: -1;}#sk-container-id-2 div.sk-parallel-item {display: flex;flex-direction: column;z-index: 1;position: relative;background-color: white;}#sk-container-id-2 div.sk-parallel-item:first-child::after {align-self: flex-end;width: 50%;}#sk-container-id-2 div.sk-parallel-item:last-child::after {align-self: flex-start;width: 50%;}#sk-container-id-2 div.sk-parallel-item:only-child::after {width: 0;}#sk-container-id-2 div.sk-dashed-wrapped {border: 1px dashed gray;margin: 0 0.4em 0.5em 0.4em;box-sizing: border-box;padding-bottom: 0.4em;background-color: white;}#sk-container-id-2 div.sk-label label {font-family: monospace;font-weight: bold;display: inline-block;line-height: 1.2em;}#sk-container-id-2 div.sk-label-container {text-align: center;}#sk-container-id-2 div.sk-container {/* jupyter's `normalize.less` sets `[hidden] { display: none; }` but bootstrap.min.css set `[hidden] { display: none !important; }` so we also need the `!important` here to be able to override the default hidden behavior on the sphinx rendered scikit-learn.org. See: https://github.com/scikit-learn/scikit-learn/issues/21755 */display: inline-block !important;position: relative;}#sk-container-id-2 div.sk-text-repr-fallback {display: none;}</style><div id=\"sk-container-id-2\" class=\"sk-top-container\"><div class=\"sk-text-repr-fallback\"><pre>SVC(gamma=0.001)</pre><b>In a Jupyter environment, please rerun this cell to show the HTML representation or trust the notebook. <br />On GitHub, the HTML representation is unable to render, please try loading this page with nbviewer.org.</b></div><div class=\"sk-container\" hidden><div class=\"sk-item\"><div class=\"sk-estimator sk-toggleable\"><input class=\"sk-toggleable__control sk-hidden--visually\" id=\"sk-estimator-id-2\" type=\"checkbox\" checked><label for=\"sk-estimator-id-2\" class=\"sk-toggleable__label sk-toggleable__label-arrow\">SVC</label><div class=\"sk-toggleable__content\"><pre>SVC(gamma=0.001)</pre></div></div></div></div></div>"
          },
          "metadata": {}
        }
      ],
      "execution_count": 6
    },
    {
      "cell_type": "markdown",
      "source": "Print accuracy of training and validation data",
      "metadata": {
        "id": "JQB-U50H4mIx",
        "colab_type": "text",
        "cell_id": "27e8f96a74704b82a9fdbe01fd3b98e4",
        "deepnote_cell_type": "markdown"
      }
    },
    {
      "cell_type": "code",
      "source": "y_train_pred2 = low_gamma_svm.predict(X_train)\nprint(\"Training Accuracy is \", accuracy_score(y_train, y_train_pred2)*100)\ny_val_pred2 = low_gamma_svm.predict(X_val)\nprint(\"Validation Accuracy is \", accuracy_score(y_val,y_val_pred2)*100)",
      "metadata": {
        "id": "tr4DGB309s9a",
        "colab": {},
        "colab_type": "code",
        "source_hash": "ee4ed40c",
        "execution_start": 1689198828812,
        "execution_millis": 132,
        "deepnote_to_be_reexecuted": false,
        "cell_id": "7ea8dda9e322481ba0a184c035e81055",
        "deepnote_cell_type": "code"
      },
      "outputs": [
        {
          "name": "stdout",
          "text": "Training Accuracy is  88.35978835978835\nValidation Accuracy is  66.66666666666666\n",
          "output_type": "stream"
        }
      ],
      "execution_count": 7
    },
    {
      "cell_type": "markdown",
      "source": "Explain the accuracy results below. ",
      "metadata": {
        "id": "TA9xLHAEIKXY",
        "colab_type": "text",
        "cell_id": "b6664fcecce84520b2d2c897aa45f199",
        "deepnote_cell_type": "markdown"
      }
    },
    {
      "cell_type": "markdown",
      "source": "When gamma is 1 it overfit and the training accuracy was a 100% but when we reduced it the training accuracy was 88.35%.",
      "metadata": {
        "id": "0IKjiKigeeKp",
        "colab_type": "text",
        "cell_id": "c4523350328347c0857e3a00d6456948",
        "deepnote_cell_type": "markdown"
      }
    },
    {
      "cell_type": "markdown",
      "source": "Print the confusion matrices for your high and low gamma models (both numeric and visualized)",
      "metadata": {
        "id": "DxF6fUTvTAQk",
        "colab_type": "text",
        "cell_id": "bdb9151818af4c239e73fb4ff490db82",
        "deepnote_cell_type": "markdown"
      }
    },
    {
      "cell_type": "code",
      "source": "from sklearn import metrics\nprint('Confusion Matrix:')\nlabels = [0,1]\ncm = metrics.confusion_matrix(y_val, y_val_pred, labels=labels)\nprint(cm)\n\nprint('Confusion Matrix 2:')\nlabels = [0,1]\ncm2 = metrics.confusion_matrix(y_val, y_val_pred2, labels=labels)\nprint(cm2)\n\ndef plot_cmatrix(cm,labels,title='Confusion Matrix'):\n  fig = plt.figure()\n  ax = fig.add_subplot(111)\n  cax = ax.matshow(cm,cmap='Reds')\n  plt.title('\\n'+title+'\\n', fontsize=20)\n  fig.colorbar(cax)\n  ax.set_xticklabels([''] + labels, fontsize=16)\n  ax.set_yticklabels([''] + labels, fontsize=16)\n  plt.xlabel('Predicted', fontsize=16)\n  plt.ylabel('True', fontsize=16)\n  plt.show()\n  \nplot_cmatrix(cm,labels)\nplot_cmatrix(cm2,labels)",
      "metadata": {
        "id": "zxZeR4haTAQk",
        "colab": {},
        "colab_type": "code",
        "source_hash": "bff5b006",
        "execution_start": 1689198828865,
        "execution_millis": 1378,
        "deepnote_to_be_reexecuted": false,
        "cell_id": "c6c65d7bbccc46649d6cc2120e2469e9",
        "deepnote_cell_type": "code"
      },
      "outputs": [
        {
          "name": "stdout",
          "text": "Confusion Matrix:\n[[48  0]\n [15  0]]\nConfusion Matrix 2:\n[[40  8]\n [13  2]]\n/tmp/ipykernel_589/3190348048.py:18: UserWarning: FixedFormatter should only be used together with FixedLocator\n  ax.set_xticklabels([''] + labels, fontsize=16)\n/tmp/ipykernel_589/3190348048.py:19: UserWarning: FixedFormatter should only be used together with FixedLocator\n  ax.set_yticklabels([''] + labels, fontsize=16)\n",
          "output_type": "stream"
        },
        {
          "data": {
            "text/plain": "<Figure size 640x480 with 2 Axes>",
            "image/png": "[encoded data removed]"
          },
          "metadata": {
            "image/png": {
              "width": 509,
              "height": 544
            }
          },
          "output_type": "display_data"
        },
        {
          "data": {
            "text/plain": "<Figure size 640x480 with 2 Axes>",
            "image/png": "[encoded data removed]"
          },
          "metadata": {
            "image/png": {
              "width": 509,
              "height": 544
            }
          },
          "output_type": "display_data"
        }
      ],
      "execution_count": 8
    },
    {
      "cell_type": "markdown",
      "source": "<a style='text-decoration:none;line-height:16px;display:flex;color:#5B5B62;padding:10px;justify-content:end;' href='https://deepnote.com?utm_source=created-in-deepnote-cell&projectId=20b705ef-e160-4a38-9f01-3cd5fbef1605' target=\"_blank\">\n<img alt='Created in deepnote.com' style='display:inline;max-height:16px;margin:0px;margin-right:7.5px;' src='data:image/svg+xml;base64,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' > </img>\nCreated in <span style='font-weight:600;margin-left:4px;'>Deepnote</span></a>",
      "metadata": {
        "created_in_deepnote_cell": true,
        "deepnote_cell_type": "markdown"
      }
    }
  ],
  "nbformat": 4,
  "nbformat_minor": 0,
  "metadata": {
    "colab": {
      "name": "SVM_Exercises",
      "provenance": [],
      "collapsed_sections": []
    },
    "deepnote": {},
    "kernelspec": {
      "name": "python3",
      "language": "python",
      "display_name": "Python 3"
    },
    "language_info": {
      "name": "python",
      "version": "3.7.3",
      "mimetype": "text/x-python",
      "file_extension": ".py",
      "pygments_lexer": "ipython3",
      "codemirror_mode": {
        "name": "ipython",
        "version": 3
      },
      "nbconvert_exporter": "python"
    },
    "deepnote_notebook_id": "bfcdde9a10054b3bbee7ff8b9d830e8b",
    "deepnote_execution_queue": []
  }
}