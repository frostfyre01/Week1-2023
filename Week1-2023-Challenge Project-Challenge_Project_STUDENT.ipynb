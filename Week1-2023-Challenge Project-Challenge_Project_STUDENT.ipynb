{
  "cells": [
    {
      "cell_type": "markdown",
      "source": "# Week 1 Challenge Project\n### Lyle Lalunio\n---\nHypothyroidism, also called underactive thyroid or low thyroid, is a disorder of the endocrine system in which the thyroid gland does not produce enough thyroid hormone. It can cause a number of symptoms, such as poor ability to tolerate cold, a feeling of tiredness, constipation, depression, and weight gain. Occasionally there may be swelling of the front part of the neck due to goitre. Untreated hypothyroidism during pregnancy can lead to delays in growth and intellectual development in the baby or cretinism.\n\nWorldwide, too little iodine in the diet is the most common cause of hypothyroidism. In countries with enough iodine in the diet, the most common cause of hypothyroidism is the autoimmune condition Hashimoto's thyroiditis. Less common causes include: previous treatment with radioactive iodine, injury to the hypothalamus or the anterior pituitary gland, certain medications, a lack of a functioning thyroid at birth, or previous thyroid surgery. The diagnosis of hypothyroidism, when suspected, can be confirmed with blood tests measuring thyroid-stimulating hormone (TSH) and thyroxine levels.\n\nWorldwide about one billion people are estimated to be iodine deficient; however, it is unknown how often this results in hypothyroidism. In the United States, hypothyroidism occurs in 0.3–0.4% of people.\n\nAnd that is why we iodize salt.\n\n![alt text](https://www.mayoclinic.org/-/media/kcms/gbs/patient-consumer/images/2013/11/15/17/39/ds00181_-ds00344_-ds00353_-ds00491_-ds00492_-ds00567_-ds00660_-my00709_im01872_thyroid_gif.jpg)\n\n",
      "metadata": {
        "id": "XQDE8pPCpFRb",
        "colab_type": "text",
        "cell_id": "923e519179ea4ef088a27708332917bf",
        "deepnote_cell_type": "markdown"
      }
    },
    {
      "cell_type": "markdown",
      "source": "Background: Doctors all around the world need our help to predict whether a patient has hypothyroid disease. We have already overspent our budget to collect such complete data on about 30 attributes for 2800 patients--a good starting number, but a larger sample would certainly be preferred. Moving forward, however, we simply cannot afford to spend so much money on data collection. Therefore, we also need to determine which attributes are the most meaningful to the predictive models, and cut out the rest that don't contribute much. \n\nThe boss wants to see a **balanced** model that can predict with a **high sensitivity** and **high specificity** while using a ***low amount of features***. Collecting complete data such as this is very rare, very time-consuming, and often very expensive. By minimizing the number of features, it will optimize future data collection by deciding what needs to be collected, and what doesn't.",
      "metadata": {
        "id": "OFF1-BLiSLZ8",
        "colab_type": "text",
        "cell_id": "c55f19fecd2a40058aece6408e258a51",
        "deepnote_cell_type": "markdown"
      }
    },
    {
      "cell_type": "markdown",
      "source": "## Loading the data",
      "metadata": {
        "id": "HsZB_SGvp4mP",
        "colab_type": "text",
        "cell_id": "cb4a48a716724c32823a4d67e8c671e9",
        "deepnote_cell_type": "markdown"
      }
    },
    {
      "cell_type": "markdown",
      "source": "Let's read the data into a Pandas dataframe and look at the first 20 records.",
      "metadata": {
        "id": "DWrUz9OQ0uAU",
        "colab_type": "text",
        "cell_id": "cf3cb3fadcd041ed97eb278e3f247672",
        "deepnote_cell_type": "markdown"
      }
    },
    {
      "cell_type": "code",
      "source": "import pandas as po\n### Your code here",
      "metadata": {
        "id": "s9AtXQPkzC8j",
        "colab": {
          "autoexec": {
            "startup": false,
            "wait_interval": 0
          }
        },
        "colab_type": "code",
        "source_hash": "cc30a1b",
        "execution_start": 1625754717639,
        "execution_millis": 5,
        "deepnote_to_be_reexecuted": false,
        "cell_id": "63c220bd5bc840bf810d6f5ab09609a7",
        "deepnote_cell_type": "code"
      },
      "outputs": [],
      "execution_count": 1
    },
    {
      "cell_type": "code",
      "source": "dataset.columns = ['Age', 'Sex', 'On Thyroxine', 'Query on Thyroxine', 'On Antithyroid Medication', 'Sick', 'Pregnant', 'Thyroid Surgery', 'I131 Treatment', 'Query Hypothyroid', 'Query Hyperthyroid', 'Lithium', 'Goiter', 'Tumor', 'Hypopituitary', 'Psych', 'TSH Measured', 'TSH', 'T3 Measured', 'T3', 'TT4 Measured', 'TT4', 'T4U Measured', 'T4U', 'FTI Measured', 'FTI', 'TBG Measured', 'TBG', 'Referral Source', 'Class']",
      "metadata": {
        "tags": [],
        "cell_id": "cd2ac605dfc64b1781ebc1b4e2012f27",
        "deepnote_cell_type": "code"
      },
      "outputs": [],
      "execution_count": null
    },
    {
      "cell_type": "markdown",
      "source": "Great, looks like the data loaded in properly. Let's continue looking at some summary statistics on our data.",
      "metadata": {
        "id": "tYhtoqdR6Y3J",
        "colab_type": "text",
        "cell_id": "44ecc768339d46fd8dab0739a9f77409",
        "deepnote_cell_type": "markdown"
      }
    },
    {
      "cell_type": "markdown",
      "source": "## Viewing summary statistics\nThe functions describe() and info() are your friends",
      "metadata": {
        "id": "sGKbG-eBqBjF",
        "colab_type": "text",
        "cell_id": "0a78ca426978477ba2c1d4c6832dd0d6",
        "deepnote_cell_type": "markdown"
      }
    },
    {
      "cell_type": "code",
      "source": "# output high-level column statistics\ndataset.describe()",
      "metadata": {
        "id": "rnp3nN9b6ZNw",
        "colab": {
          "autoexec": {
            "startup": false,
            "wait_interval": 0
          }
        },
        "colab_type": "code",
        "source_hash": "674a2a6",
        "execution_start": 1625754719449,
        "execution_millis": 150,
        "deepnote_to_be_reexecuted": false,
        "cell_id": "158e659280bc4baa975c0755f2dab7f2",
        "deepnote_cell_type": "code"
      },
      "outputs": [],
      "execution_count": null
    },
    {
      "cell_type": "code",
      "source": "# output information about the data including the index dtype and column dtypes, non-null values and memory usage\ndataset.info()",
      "metadata": {
        "id": "9QndSspU7lW4",
        "colab": {
          "autoexec": {
            "startup": false,
            "wait_interval": 0
          }
        },
        "colab_type": "code",
        "source_hash": "90f3a161",
        "execution_start": 1625754719955,
        "execution_millis": 13,
        "deepnote_to_be_reexecuted": false,
        "cell_id": "d0a7f853056b4d2eba90a076a414cbbc",
        "deepnote_cell_type": "code"
      },
      "outputs": [],
      "execution_count": null
    },
    {
      "cell_type": "markdown",
      "source": "Note the data types are all objects--even columns that are obviously numeric like Age. This is because there are \"?\" values for some of the cells, making pandas interpret these columns as non-null objects (instead of int, for example).",
      "metadata": {
        "id": "olpFokrp8AIH",
        "colab_type": "text",
        "cell_id": "bf1ce6f840e54980910821213347fd43",
        "deepnote_cell_type": "markdown"
      }
    },
    {
      "cell_type": "markdown",
      "source": "## Data cleaning",
      "metadata": {
        "id": "0emOppVyqQS9",
        "colab_type": "text",
        "cell_id": "c7cb90a6cbb04aa4b4c9594bef79727e",
        "deepnote_cell_type": "markdown"
      }
    },
    {
      "cell_type": "markdown",
      "source": "To start, let's make all the numerical columns contain the correct type of values and change the data type of those columns to numeric. Let's also replace all those question marks with the median of the respective column.\n\nHint: To make it easier, first try converting all the \"?\" to NaN.",
      "metadata": {
        "id": "ZRQpnByEWrcx",
        "colab_type": "text",
        "cell_id": "1536a9e6570a40e28037b8f879568e34",
        "deepnote_cell_type": "markdown"
      }
    },
    {
      "cell_type": "code",
      "source": "import numpy as np\n\n### your code here",
      "metadata": {
        "id": "BlTsaK5n5Bg1",
        "colab": {
          "autoexec": {
            "startup": false,
            "wait_interval": 0
          }
        },
        "colab_type": "code",
        "cell_id": "6f78c3a420ed450d86c9363bd707ff3a",
        "deepnote_cell_type": "code"
      },
      "outputs": [],
      "execution_count": null
    },
    {
      "cell_type": "markdown",
      "source": "Hmm, still looks like the TBG column is unfilled, implying it was empty to begin with. Let's get rid of this column, then (and make sure to get rid of it in your list of numeric columns, too!)",
      "metadata": {
        "id": "HZo7iKHUD3DG",
        "colab_type": "text",
        "cell_id": "9c85ac585de14a06b6489b884e6f236d",
        "deepnote_cell_type": "markdown"
      }
    },
    {
      "cell_type": "code",
      "source": "### Your code here",
      "metadata": {
        "id": "yAe5FIFkD25f",
        "colab": {
          "autoexec": {
            "startup": false,
            "wait_interval": 0
          }
        },
        "colab_type": "code",
        "cell_id": "9d7cfdbc2e1b4878aa79e5525eb94c87",
        "deepnote_cell_type": "code"
      },
      "outputs": [],
      "execution_count": null
    },
    {
      "cell_type": "markdown",
      "source": "All right, let's take a look now at the info of *just the numeric columns* in the dataset:",
      "metadata": {
        "id": "DTjWD_ddCHsA",
        "colab_type": "text",
        "cell_id": "2005783f457c4b78a4fb8ef6347f3066",
        "deepnote_cell_type": "markdown"
      }
    },
    {
      "cell_type": "code",
      "source": "dataset[numeric_columns].info()",
      "metadata": {
        "id": "00OaxCAbzRvA",
        "colab": {
          "autoexec": {
            "startup": false,
            "wait_interval": 0
          }
        },
        "colab_type": "code",
        "cell_id": "173bd92cca6a463395cd9176021ecf45",
        "deepnote_cell_type": "code"
      },
      "outputs": [],
      "execution_count": null
    },
    {
      "cell_type": "markdown",
      "source": "Perfect, now let's fix that class feature. According to the note the data collectors included with this data, the \".|####\" refers to a patient number, and is not necessarily relevant for our purposes here.",
      "metadata": {
        "id": "XOzcRX-5YRvz",
        "colab_type": "text",
        "cell_id": "b377409b9e664511a56846a8509545e3",
        "deepnote_cell_type": "markdown"
      }
    },
    {
      "cell_type": "code",
      "source": "### Your code here",
      "metadata": {
        "id": "QFmeyRcGYR7s",
        "colab": {
          "autoexec": {
            "startup": false,
            "wait_interval": 0
          }
        },
        "colab_type": "code",
        "cell_id": "dbfcbffda78545fcb5fa2acfe2e8c778",
        "deepnote_cell_type": "code"
      },
      "outputs": [],
      "execution_count": null
    },
    {
      "cell_type": "markdown",
      "source": "Let's run the describe() function on just the \"class\" column.",
      "metadata": {
        "id": "KYOwWnpqhQvd",
        "colab_type": "text",
        "cell_id": "32c480faef1c4cbe9dd6a6c786b83b04",
        "deepnote_cell_type": "markdown"
      }
    },
    {
      "cell_type": "code",
      "source": "dataset['Class'].describe()",
      "metadata": {
        "id": "cq_v45R8hP5A",
        "colab": {
          "height": 105,
          "autoexec": {
            "startup": false,
            "wait_interval": 0
          },
          "base_uri": "https://localhost:8080/"
        },
        "outputId": "5db97e80-a424-49c9-d58f-a7126894d1c6",
        "colab_type": "code",
        "executionInfo": {
          "user": {
            "userId": "108954789805627648380",
            "photoUrl": "https://lh3.googleusercontent.com/a/default-user=s128",
            "displayName": "Lyle Lalunio"
          },
          "status": "ok",
          "elapsed": 272,
          "user_tz": 240,
          "timestamp": 1531117211963
        },
        "cell_id": "1ea524de917e471d862ceb3f3a2d2e72",
        "deepnote_cell_type": "code"
      },
      "outputs": [
        {
          "data": {
            "text/plain": "count         2800\nunique           4\ntop       negative\nfreq          2580\nName: class, dtype: object"
          },
          "execution_count": 10,
          "metadata": {
            "tags": []
          },
          "output_type": "execute_result"
        }
      ],
      "execution_count": 10
    },
    {
      "cell_type": "markdown",
      "source": "It looks like there are actually 4 unique classification variables! Thank goodness we didn't assume it was binary.\n\nDisplay all the unique values in the class column.",
      "metadata": {
        "id": "m6S7Y6VXhYct",
        "colab_type": "text",
        "cell_id": "24f1eb3eb56840e69bd116e2478743e8",
        "deepnote_cell_type": "markdown"
      }
    },
    {
      "cell_type": "code",
      "source": "### Your code here",
      "metadata": {
        "id": "oH0fTzzvE-oF",
        "colab": {
          "autoexec": {
            "startup": false,
            "wait_interval": 0
          }
        },
        "colab_type": "code",
        "cell_id": "3b68bc2c7f6d4b219cb1c2c71f27b19d",
        "deepnote_cell_type": "code"
      },
      "outputs": [],
      "execution_count": null
    },
    {
      "cell_type": "markdown",
      "source": "But let's make it binary for the sake of this example anyway. If you finish early later on, try the multiclass classifier with all 4 values!",
      "metadata": {
        "id": "aBrmRJHakpWm",
        "colab_type": "text",
        "cell_id": "17c5ac79e531427abd46f6255554ef6c",
        "deepnote_cell_type": "markdown"
      }
    },
    {
      "cell_type": "code",
      "source": "### Your code here",
      "metadata": {
        "id": "HwqVoUFTkoa0",
        "colab": {
          "autoexec": {
            "startup": false,
            "wait_interval": 0
          }
        },
        "colab_type": "code",
        "cell_id": "e6b4f8df7fec426193c7510a91f46365",
        "deepnote_cell_type": "code"
      },
      "outputs": [],
      "execution_count": null
    },
    {
      "cell_type": "markdown",
      "source": "Before we move on, let's not forget to run the describe() function on just  your categorical columns, too.\nCompare it to the describe() that your numeric columns produce.",
      "metadata": {
        "id": "jbgWOvekhluw",
        "colab_type": "text",
        "cell_id": "37e2405c59d742088021b393c427a0bc",
        "deepnote_cell_type": "markdown"
      }
    },
    {
      "cell_type": "code",
      "source": "### Your code here",
      "metadata": {
        "id": "WHAZCbNAc5KT",
        "colab": {
          "autoexec": {
            "startup": false,
            "wait_interval": 0
          }
        },
        "colab_type": "code",
        "cell_id": "ee2edc620def4f1683dc7aa9f7a2e0e6",
        "deepnote_cell_type": "code"
      },
      "outputs": [],
      "execution_count": null
    },
    {
      "cell_type": "markdown",
      "source": "Great! Let's see if there's any other records we have to address. count() is a nice way to check if we have any other missing values.",
      "metadata": {
        "id": "Jo9aRzltCOK8",
        "colab_type": "text",
        "cell_id": "d48b2cbdfc234df7913ef9837c28aca9",
        "deepnote_cell_type": "markdown"
      }
    },
    {
      "cell_type": "code",
      "source": "dataset.count()",
      "metadata": {
        "id": "Q1yGe8nrzozW",
        "colab": {
          "autoexec": {
            "startup": false,
            "wait_interval": 0
          }
        },
        "colab_type": "code",
        "cell_id": "d5fdbd0ccfb64001baa6f7a0d9952aa1",
        "deepnote_cell_type": "code"
      },
      "outputs": [],
      "execution_count": null
    },
    {
      "cell_type": "markdown",
      "source": "We could replace the missing values in proportion to the current number of males and females over the total, but that is making an assumption we don't have to make. For now, let's simply cut the records of all these sexless people out of our data.",
      "metadata": {
        "id": "-Y9DDq8qCeL8",
        "colab_type": "text",
        "cell_id": "c9cf22bfedc3402aa3070d21878b0bcf",
        "deepnote_cell_type": "markdown"
      }
    },
    {
      "cell_type": "code",
      "source": "### Your code here",
      "metadata": {
        "id": "1E6qS7F5zyt3",
        "colab": {
          "autoexec": {
            "startup": false,
            "wait_interval": 0
          }
        },
        "colab_type": "code",
        "cell_id": "ca9b6a6b8ee546c5b9d224c5a507eac5",
        "deepnote_cell_type": "code"
      },
      "outputs": [],
      "execution_count": null
    },
    {
      "cell_type": "markdown",
      "source": "Nice! Now we have a pretty clean dataset to work with. Let's now do some further data analysis and visualization to better understand what we're working with.",
      "metadata": {
        "id": "eTcS25EHF4vL",
        "colab_type": "text",
        "cell_id": "96396d8d758f4f13829b700ca9fb7d6d",
        "deepnote_cell_type": "markdown"
      }
    },
    {
      "cell_type": "markdown",
      "source": "## Data analysis and visualization",
      "metadata": {
        "id": "SsiaTCjQql3S",
        "colab_type": "text",
        "cell_id": "a53648dba9054c35b8d266e39ae9df54",
        "deepnote_cell_type": "markdown"
      }
    },
    {
      "cell_type": "markdown",
      "source": "Check the correlation of the dataset",
      "metadata": {
        "id": "huFOG2Mw3OqJ",
        "colab_type": "text",
        "cell_id": "534578cd21e04611a5601770131c65fe",
        "deepnote_cell_type": "markdown"
      }
    },
    {
      "cell_type": "code",
      "source": "### Your code here",
      "metadata": {
        "id": "fXrXSMW_GSeT",
        "colab": {
          "autoexec": {
            "startup": false,
            "wait_interval": 0
          }
        },
        "colab_type": "code",
        "cell_id": "8ca3908feac24be693b6237aaa65ae91",
        "deepnote_cell_type": "code"
      },
      "outputs": [],
      "execution_count": null
    },
    {
      "cell_type": "markdown",
      "source": "Convert the class feature to numeric so we can also see the correlations it has with the numeric features, and check the correlation again.",
      "metadata": {
        "id": "scfm6AEv3YIJ",
        "colab_type": "text",
        "cell_id": "135873b0258c48a49df03dd927a178f4",
        "deepnote_cell_type": "markdown"
      }
    },
    {
      "cell_type": "code",
      "source": "import pandas as po\n\n### Your code here",
      "metadata": {
        "id": "2bGleemH3o3b",
        "colab": {
          "autoexec": {
            "startup": false,
            "wait_interval": 0
          }
        },
        "colab_type": "code",
        "cell_id": "e3b4b376859d4283be61a1233c49c027",
        "deepnote_cell_type": "code"
      },
      "outputs": [],
      "execution_count": null
    },
    {
      "cell_type": "markdown",
      "source": "Let's do some further visual analysis using a new module called seaborn. Explore its incredible versatility and diversity with data visualization here: https://seaborn.pydata.org/",
      "metadata": {
        "id": "tp4yO5kUGd3L",
        "colab_type": "text",
        "cell_id": "39a9a0eb594f484e81b1f7986282787c",
        "deepnote_cell_type": "markdown"
      }
    },
    {
      "cell_type": "code",
      "source": "import seaborn as sns\nsns.pairplot(copy)",
      "metadata": {
        "id": "JzkaBa64aXzb",
        "colab": {
          "autoexec": {
            "startup": false,
            "wait_interval": 0
          }
        },
        "colab_type": "code",
        "cell_id": "c6ca35dea04c4086b47b69699cf01204",
        "deepnote_cell_type": "code"
      },
      "outputs": [],
      "execution_count": null
    },
    {
      "cell_type": "markdown",
      "source": "OK! I think we're ready to create and select some supervised learning models. To get the ball rolling, select Age and Sex as our explanatory features (and class as the target feature, obviously).",
      "metadata": {
        "id": "mvW7_0aWFSEm",
        "colab_type": "text",
        "cell_id": "7c37ee54f70c48a6ae05b5205c0af958",
        "deepnote_cell_type": "markdown"
      }
    },
    {
      "cell_type": "markdown",
      "source": "## Model training and selection",
      "metadata": {
        "id": "JXMQ9UaKqyha",
        "colab_type": "text",
        "cell_id": "b273eb191d084788a6f0a6cceebd4d3f",
        "deepnote_cell_type": "markdown"
      }
    },
    {
      "cell_type": "markdown",
      "source": "Let's dummy the categorical variables (but not the class value!) and view the column names to select some for our model.",
      "metadata": {
        "id": "Mon3ih88tW8y",
        "colab_type": "text",
        "cell_id": "4709015d19f24bc28970789252296329",
        "deepnote_cell_type": "markdown"
      }
    },
    {
      "cell_type": "code",
      "source": "### Your code here",
      "metadata": {
        "id": "1NqvPYi6itkH",
        "colab": {
          "autoexec": {
            "startup": false,
            "wait_interval": 0
          }
        },
        "colab_type": "code",
        "cell_id": "58eee956de4b48fea3d5964576b90a6c",
        "deepnote_cell_type": "code"
      },
      "outputs": [],
      "execution_count": null
    },
    {
      "cell_type": "markdown",
      "source": "All right, let's now split our data into training and testing in an 80-20 split. For consistency, let's all use a seed of 8675309.",
      "metadata": {
        "id": "4yEeqjv19hCX",
        "colab_type": "text",
        "cell_id": "bc6650a935e644b6afa50ae6d3cfbd60",
        "deepnote_cell_type": "markdown"
      }
    },
    {
      "cell_type": "code",
      "source": "from sklearn.model_selection import train_test_split\n\n## Your code here",
      "metadata": {
        "id": "GQqlCTGntXCX",
        "colab": {
          "height": 36,
          "autoexec": {
            "startup": false,
            "wait_interval": 0
          },
          "base_uri": "https://localhost:8080/"
        },
        "outputId": "17fb180a-5a12-4890-8de2-2b2d73bfe9df",
        "colab_type": "code",
        "executionInfo": {
          "user": {
            "userId": "108954789805627648380",
            "photoUrl": "https://lh3.googleusercontent.com/a/default-user=s128",
            "displayName": "Lyle Lalunio"
          },
          "status": "ok",
          "elapsed": 452,
          "user_tz": 240,
          "timestamp": 1531117461829
        },
        "cell_id": "4a48902de61f45c79f4e9f64414315cd",
        "deepnote_cell_type": "code"
      },
      "outputs": [],
      "execution_count": 24
    },
    {
      "cell_type": "markdown",
      "source": "For reusability, let's make a logistic regression function that will take our training and testing data as arguments. Inside the function, build a model on your training data, fit it with your training class data, and return a list of your predictions.",
      "metadata": {
        "id": "6KGUCXBE-OFy",
        "colab_type": "text",
        "cell_id": "79e142c584df4ce7a2b8899db6799808",
        "deepnote_cell_type": "markdown"
      }
    },
    {
      "cell_type": "code",
      "source": "from sklearn import metrics\nfrom sklearn.linear_model import LogisticRegression\n\ndef log_reg(train_X,train_Y,test_X,test_Y):\n\n  ### Your code here",
      "metadata": {
        "id": "DawvoHd7lnG9",
        "colab": {
          "autoexec": {
            "startup": false,
            "wait_interval": 0
          }
        },
        "colab_type": "code",
        "cell_id": "6a20c92c61c645688d00947b88addcc2",
        "deepnote_cell_type": "code"
      },
      "outputs": [],
      "execution_count": null
    },
    {
      "cell_type": "markdown",
      "source": "Fantastic, we have just built a logistic regression model! Let's go see how well it performs.",
      "metadata": {
        "id": "JR8xu_VVsygN",
        "colab_type": "text",
        "cell_id": "0dd9aaa31f6d4176aedfe04e32767b73",
        "deepnote_cell_type": "markdown"
      }
    },
    {
      "cell_type": "markdown",
      "source": "### Model evaluation",
      "metadata": {
        "id": "gAz096POwSRJ",
        "colab_type": "text",
        "cell_id": "95cf0794307b4109b98f2370e5dc45b1",
        "deepnote_cell_type": "markdown"
      }
    },
    {
      "cell_type": "markdown",
      "source": "To start, let's establish the baseline performance. This is important because it provides a starting point of comparison for later evaluation methods, like accuracy.\n\nA good baseline model to use is the Zero Rule algorithm. In classification problems, it simply predicts the class value with the greatest number of instances every time.",
      "metadata": {
        "id": "570duVNhrTZh",
        "colab_type": "text",
        "cell_id": "1fae7f544f884a4e9ef613213eeb5844",
        "deepnote_cell_type": "markdown"
      }
    },
    {
      "cell_type": "code",
      "source": "def zero_rule_algorithm_classification(train,test):\n  ## Your code here",
      "metadata": {
        "id": "fwvqucK_Yg-2",
        "colab": {
          "autoexec": {
            "startup": false,
            "wait_interval": 0
          }
        },
        "colab_type": "code",
        "cell_id": "cf56b08fde4040eb84f688974943fe1b",
        "deepnote_cell_type": "code"
      },
      "outputs": [],
      "execution_count": null
    },
    {
      "cell_type": "markdown",
      "source": "Get your baseline performance by calculating the accuracy of your Zero Rule algorithm.",
      "metadata": {
        "id": "I_nExUgUYll5",
        "colab_type": "text",
        "cell_id": "d4f01faee1804a40bcaf0af35d652659",
        "deepnote_cell_type": "markdown"
      }
    },
    {
      "cell_type": "code",
      "source": "## Your code here",
      "metadata": {
        "id": "zs0M8OdtYidB",
        "colab": {
          "autoexec": {
            "startup": false,
            "wait_interval": 0
          }
        },
        "colab_type": "code",
        "cell_id": "a1fcad60f37c4b3ca94c32296d79a9a7",
        "deepnote_cell_type": "code"
      },
      "outputs": [],
      "execution_count": null
    },
    {
      "cell_type": "markdown",
      "source": "So maybe accuracy isn't the best performance measure for this dataset. As you've seen already, even when the models predict \"negative\" for all the records, we could already achieve a ~92% accuracy. However, that also implies we incorrectly predicted 100% of the positive cases, which in the context of this problem, is fatal.\n\nThankfully, it isn't the only way to evaluate your model. Let's take a look at a confusion matrix.\n\n![alt text](https://i.imgur.com/uipmEwt.png)",
      "metadata": {
        "id": "WksirqfT5Ecw",
        "colab_type": "text",
        "cell_id": "2e1a3dbc56ca47c4aad48c735dfe6a35",
        "deepnote_cell_type": "markdown"
      }
    },
    {
      "cell_type": "markdown",
      "source": "Create a confusion matrix using the logistic regression function you built earlier.",
      "metadata": {
        "id": "-vzqX_SKaBzK",
        "colab_type": "text",
        "cell_id": "060109350e70499a8f72c3ea50f44a36",
        "deepnote_cell_type": "markdown"
      }
    },
    {
      "cell_type": "code",
      "source": "from sklearn.metrics import confusion_matrix\n\n### Your code here",
      "metadata": {
        "id": "DSS7JdYjaBWh",
        "colab": {
          "autoexec": {
            "startup": false,
            "wait_interval": 0
          }
        },
        "colab_type": "code",
        "cell_id": "682e6564790241b1a7479001c1a3cca1",
        "deepnote_cell_type": "code"
      },
      "outputs": [],
      "execution_count": null
    },
    {
      "cell_type": "markdown",
      "source": "\nYet another appropriate metric is the Area Under the Receiver Operator Curve. Specifically, the diagnostic performance of a test, or the accuracy of a test to discriminate diseased cases from normal cases is evaluated using Receiver Operating Characteristic (ROC) curve analysis.\n\nWhen you consider the results of a particular test in two populations, one population with a disease, the other population without the disease, you will rarely observe a perfect separation between the two groups. Hence, the overlapping areas in the diagram below (FN, FP).\n\nIn a Receiver Operating Characteristic (ROC) curve the true positive rate (Sensitivity) is plotted in function of the false positive rate (100-Specificity) for different cut-off points. Each point on the ROC curve represents a sensitivity/specificity pair corresponding to a particular decision threshold. A test with perfect discrimination (no overlap in the two distributions) has a ROC curve that passes through the upper left corner (100% sensitivity, 100% specificity). Therefore the closer the ROC curve is to the upper left corner, the higher the overall accuracy of the test.\n\n![alt text](https://www.medcalc.org/manual/_help/images/roc_intro1.png)\n\n\n\n",
      "metadata": {
        "id": "z0JPOHmQn8N6",
        "colab_type": "text",
        "cell_id": "1bb4b6c08f6f4076bbc14ba01670c969",
        "deepnote_cell_type": "markdown"
      }
    },
    {
      "cell_type": "markdown",
      "source": "Now, to graph the AUROC curve, we will need to predict probabilities of choosing a specific class value rather than the class value itself. Make a new logistic regression model that does so.",
      "metadata": {
        "id": "cvTWQTcycBEp",
        "colab_type": "text",
        "cell_id": "8357b2083c5c4377862993ed40611588",
        "deepnote_cell_type": "markdown"
      }
    },
    {
      "cell_type": "code",
      "source": "from sklearn.linear_model import LogisticRegression\n\n### Your code here",
      "metadata": {
        "id": "Ur0s4m3kg3H-",
        "colab": {
          "autoexec": {
            "startup": false,
            "wait_interval": 0
          }
        },
        "colab_type": "code",
        "cell_id": "560bc61f877240719e8f857b4f3624c2",
        "deepnote_cell_type": "code"
      },
      "outputs": [],
      "execution_count": null
    },
    {
      "cell_type": "markdown",
      "source": "Now calculate the area under the receiver operator curve with your predictions.",
      "metadata": {
        "id": "Xm0yv6wmDnQz",
        "colab_type": "text",
        "cell_id": "3dea305f9a3240d796cbb932b72af4b0",
        "deepnote_cell_type": "markdown"
      }
    },
    {
      "cell_type": "code",
      "source": "from sklearn import metrics\n\n### Your code here",
      "metadata": {
        "id": "0xRxhlqbcc-I",
        "colab": {
          "autoexec": {
            "startup": false,
            "wait_interval": 0
          }
        },
        "colab_type": "code",
        "cell_id": "8a6ce03d2d6a441ba93a1903947f4fd5",
        "deepnote_cell_type": "code"
      },
      "outputs": [],
      "execution_count": null
    },
    {
      "cell_type": "markdown",
      "source": "Now graph the ROC curve using matplotlib, fully labeled.",
      "metadata": {
        "id": "w3hnQOGUczOn",
        "colab_type": "text",
        "cell_id": "fb5a0a3cd7174cb4954b106a1029dc49",
        "deepnote_cell_type": "markdown"
      }
    },
    {
      "cell_type": "code",
      "source": "import matplotlib.pyplot as plt\n\n### Your code here",
      "metadata": {
        "id": "JA-ieOGua55H",
        "colab": {
          "autoexec": {
            "startup": false,
            "wait_interval": 0
          }
        },
        "colab_type": "code",
        "cell_id": "dcc88442a7d44c61ba4e93dd08ace457",
        "deepnote_cell_type": "code"
      },
      "outputs": [],
      "execution_count": null
    },
    {
      "cell_type": "markdown",
      "source": "In conclusion, it looks like this model performed pretty bad. It's probably best to try out different columns or perhaps use a different model before we submit our model for scoring.",
      "metadata": {
        "id": "5D4BtDZV6fxV",
        "colab_type": "text",
        "cell_id": "ba7c0215d80a4a82a92ff9ab88e871b3",
        "deepnote_cell_type": "markdown"
      }
    },
    {
      "cell_type": "markdown",
      "source": "# Submitting your Model",
      "metadata": {
        "id": "5JW3myd8LHJy",
        "colab_type": "text",
        "cell_id": "4d991b6cb4c7431ea947e3045ce28fc8",
        "deepnote_cell_type": "markdown"
      }
    },
    {
      "cell_type": "markdown",
      "source": "Once you believe to have found the best classifier, run your classifier on the test data and make a pickle file containing of your predictions contained a pandas dataframe.\n\nThis pandas dataframe will contain three columns for your binary classifier (or 5 columns for the multiclass classifier): the first column should be your model's \"best guess\" for each patient (either 0 or 1, negative or positive) and the last two columns should be the probability the patient would be classified as either a 0 or 1.\n\n(see below for reference)",
      "metadata": {
        "id": "Wuexs1daLNBY",
        "colab_type": "text",
        "cell_id": "cb60b0058e294dd5b6e5213bcb0412a2",
        "deepnote_cell_type": "markdown"
      }
    },
    {
      "cell_type": "code",
      "source": "# after running this cell, you should see the pickle file pop up in the file explorer to the left\n# use the three dots next to the filename to download the file\n# after downloading the pickle file, email it to medlytics23-staff@mit.edu\nimport pickle\npredictions = po.DataFrame({\"guesses\":[0, 1, 0, 1],\"prob_neg\":[.75, .15, .63, .20],\"prob_pos\":[.25, .85, .27, .80]})\nprediction_pickle_path = 'prediction_pickle.pkl'\n\n# Create an variable to pickle and open it in write mode\nprediction_pickle = open(prediction_pickle_path, 'wb')\npickle.dump(predictions, prediction_pickle)\n\nprediction_pickle.close()",
      "metadata": {
        "id": "GkZOEgg3m3g1",
        "colab": {
          "height": 16,
          "autoexec": {
            "startup": false,
            "wait_interval": 0
          },
          "base_uri": "https://localhost:8080/"
        },
        "outputId": "6e113681-1554-4d5d-ee1a-14fce422cdfe",
        "colab_type": "code",
        "source_hash": "6e54bb32",
        "executionInfo": {
          "user": {
            "userId": "108954789805627648380",
            "photoUrl": "https://lh3.googleusercontent.com/a/default-user=s128",
            "displayName": "Lyle Lalunio"
          },
          "status": "ok",
          "elapsed": 735,
          "user_tz": 240,
          "timestamp": 1531300930305
        },
        "execution_start": 1625510171318,
        "execution_millis": 615,
        "deepnote_to_be_reexecuted": false,
        "cell_id": "56a582d1bb80427b930fd63acb05a41d",
        "deepnote_cell_type": "code"
      },
      "outputs": [],
      "execution_count": null
    },
    {
      "cell_type": "code",
      "source": "prediction_unpickle = open(prediction_pickle_path, 'rb')\n \n# load the unpickle object into a variable\npredictions = pickle.load(prediction_unpickle)\n \nprint(predictions)",
      "metadata": {
        "id": "Dj6_AB6LnjrW",
        "colab": {
          "height": 105,
          "autoexec": {
            "startup": false,
            "wait_interval": 0
          },
          "base_uri": "https://localhost:8080/"
        },
        "outputId": "399f0da3-727f-4e2f-9213-385243a95553",
        "colab_type": "code",
        "executionInfo": {
          "user": {
            "userId": "108954789805627648380",
            "photoUrl": "https://lh3.googleusercontent.com/a/default-user=s128",
            "displayName": "Lyle Lalunio"
          },
          "status": "ok",
          "elapsed": 263,
          "user_tz": 240,
          "timestamp": 1531301033636
        },
        "cell_id": "648ceda3627c4ce9bc51818bf76036f9",
        "deepnote_cell_type": "code"
      },
      "outputs": [
        {
          "name": "stdout",
          "output_type": "stream",
          "text": "   guesses  prob_neg  prob_pos\n0        0      0.75      0.25\n1        1      0.15      0.85\n2        0      0.63      0.27\n3        1      0.20      0.80\n"
        }
      ],
      "execution_count": 31
    },
    {
      "cell_type": "markdown",
      "source": "# Scoring your Model",
      "metadata": {
        "id": "GW27RtFNttQA",
        "colab_type": "text",
        "cell_id": "6949105a23a7414595134cec90920698",
        "deepnote_cell_type": "markdown"
      }
    },
    {
      "cell_type": "markdown",
      "source": "\n**Area Under ROC Curve**: A receiver operating characteristic (ROC) curve plots the true positive rate (y) against the false positive rate (x) at many decision threshold settings (output < threshold = 0, output > threshold = 1). The area under this curve represents the probability that a classifier will rank a randomly chosen positive instance higher than a randomly chosen negative one.\n\n**Confusion Matrix**: You will receive a certain number of points for each correct classification and a certain point penalty for each incorrect classification. The points are weighted, and are designed to equate to 0 in a Zero Rule baseline model. This point scheme is designed to punish you heavily for predicting false positives (FP) and false negatives (FN)--FN cases especially. In doing so, we hope you see the importance of clinical considerations and treat your models from a more human perspective, rather than detached from it.\n\n**Real World Cost**: Similar to the confusion matrix, we want you to keep in mind the other aspects of healthcare analytics--in this case, economic feasibility. In essence, we want you to minimize the amount of time and money spent on data collection by reducing the number of features collected. Each record certainly required a lot of time and money from several individuals and businesses to reliably create, and we hope you gain a better understanding of conducting a useful cost-benefit analysis with this scoring method. The full details of the weighted features can be found in the GitHub.",
      "metadata": {
        "id": "iJdiisMerewv",
        "colab_type": "text",
        "cell_id": "7f0b7168f3514e4692eb600b48f8755f",
        "deepnote_cell_type": "markdown"
      }
    },
    {
      "cell_type": "markdown",
      "source": "# Moving to the Next Level",
      "metadata": {
        "id": "w66lpbB6Qv_M",
        "colab_type": "text",
        "cell_id": "72c4d754f169477084608ad26c603da9",
        "deepnote_cell_type": "markdown"
      }
    },
    {
      "cell_type": "markdown",
      "source": "For those that finish early, remember how I converted the class values into simply \"negative\" and \"positive\"? Now try tackling the multiclass classifier (predicting the different types of positive hypothyroid cases instead of simply negative or positive)! \n\nThe same rules apply!",
      "metadata": {
        "id": "X-HZ12lht_so",
        "colab_type": "text",
        "cell_id": "c524db7c534a4f999ba502b3cc0b755f",
        "deepnote_cell_type": "markdown"
      }
    },
    {
      "cell_type": "markdown",
      "source": "<a style='text-decoration:none;line-height:16px;display:flex;color:#5B5B62;padding:10px;justify-content:end;' href='https://deepnote.com?utm_source=created-in-deepnote-cell&projectId=20b705ef-e160-4a38-9f01-3cd5fbef1605' target=\"_blank\">\n<img alt='Created in deepnote.com' style='display:inline;max-height:16px;margin:0px;margin-right:7.5px;' src='data:image/svg+xml;base64,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' > </img>\nCreated in <span style='font-weight:600;margin-left:4px;'>Deepnote</span></a>",
      "metadata": {
        "created_in_deepnote_cell": true,
        "deepnote_cell_type": "markdown"
      }
    }
  ],
  "nbformat": 4,
  "nbformat_minor": 0,
  "metadata": {
    "colab": {
      "name": "Challenge_Project_STUDENT.ipynb",
      "views": {},
      "version": "0.3.2",
      "provenance": [],
      "default_view": {},
      "collapsed_sections": []
    },
    "deepnote": {},
    "kernelspec": {
      "name": "python3",
      "language": "python",
      "display_name": "Python 3"
    },
    "language_info": {
      "name": "python",
      "version": "3.7.3",
      "mimetype": "text/x-python",
      "file_extension": ".py",
      "pygments_lexer": "ipython3",
      "codemirror_mode": {
        "name": "ipython",
        "version": 3
      },
      "nbconvert_exporter": "python"
    },
    "deepnote_notebook_id": "0653889e44bb4f53b5db9e83bf5e989f",
    "deepnote_execution_queue": []
  }
}